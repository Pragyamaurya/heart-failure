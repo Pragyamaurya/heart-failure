{
 "cells": [
  {
   "cell_type": "markdown",
   "id": "4e831dee-2470-47c6-bda3-66b85a99a227",
   "metadata": {},
   "source": [
    "# PROBLEM STATEMENT"
   ]
  },
  {
   "cell_type": "markdown",
   "id": "047deb85-5870-4c98-9fa4-f720db57e86e",
   "metadata": {},
   "source": [
    "- age: age of the patient (years)\n",
    "- anaemia: decrease of red blood cells or hemoglobin (boolean)(1 = Yes, 0 = No)\n",
    "- creatinine phosphokinase  (CPK): level of the CPK enzyme in the blood (mcg/L)\n",
    "- diabetes: if the patient has diabetes (boolean)(1 = Yes, 0 = No)\n",
    "- ejection fraction: percentage of blood leaving the heart at each contraction  (percentage)\n",
    "- high blood pressure: if the patient has hypertension (boolean)(1 = Yes, 0 = No)\n",
    "- platelets: platelets in the blood (kiloplatelets/mL)\n",
    "- sex: woman or man (binary)(1 = Male, 0 = Female)\n",
    "- serum creatinine: level of serum creatinine in the blood (mg/dL)\n",
    "- serum sodium: level of serum sodium in the blood (mEq/L)\n",
    "- smoking: if the patient smokes or not (boolean)(1 = Yes, 0 = No)\n",
    "- time: follow-up period (days)\n",
    "- [target] death event: if the patient died during the follow-up period (boolean)---> (1 = Death, 0 = Alive)\n",
    "\n",
    "\n",
    "- Usually, in a heart failure dataset, Class 1 (Death) is more important because false negatives (predicting Alive when the patient might die) can be dangerous."
   ]
  },
  {
   "cell_type": "code",
   "execution_count": null,
   "id": "c75ced0f-a099-4cb8-bdf0-fe243818f115",
   "metadata": {},
   "outputs": [],
   "source": []
  },
  {
   "cell_type": "code",
   "execution_count": null,
   "id": "c561de55-a4bb-48f8-8daa-68f6fc3f7f31",
   "metadata": {},
   "outputs": [],
   "source": []
  },
  {
   "cell_type": "markdown",
   "id": "79b45645-5175-4a45-a9d9-1485bbfa8dd3",
   "metadata": {},
   "source": [
    "# IMPORTING LIBRARIES"
   ]
  },
  {
   "cell_type": "code",
   "execution_count": 1,
   "id": "1649bc8c-525d-4c51-bfd5-3cdbd037a2a4",
   "metadata": {},
   "outputs": [],
   "source": [
    "import numpy as np\n",
    "import pandas as pd\n",
    "import seaborn as sns\n",
    "import warnings\n",
    "warnings.filterwarnings(\"ignore\")"
   ]
  },
  {
   "cell_type": "code",
   "execution_count": null,
   "id": "2ec08844-e3a3-4747-b326-5d580ebed0f3",
   "metadata": {},
   "outputs": [],
   "source": []
  },
  {
   "cell_type": "code",
   "execution_count": null,
   "id": "f63f9cac-a247-43af-b87b-a07a98fc0170",
   "metadata": {},
   "outputs": [],
   "source": []
  },
  {
   "cell_type": "markdown",
   "id": "8862be8a-7886-442a-8876-5c595a67f3cf",
   "metadata": {},
   "source": [
    "# READ TABLE"
   ]
  },
  {
   "cell_type": "code",
   "execution_count": 2,
   "id": "d8e76cd3-1584-4d89-b74c-3defa942381b",
   "metadata": {},
   "outputs": [
    {
     "data": {
      "text/html": [
       "<div>\n",
       "<style scoped>\n",
       "    .dataframe tbody tr th:only-of-type {\n",
       "        vertical-align: middle;\n",
       "    }\n",
       "\n",
       "    .dataframe tbody tr th {\n",
       "        vertical-align: top;\n",
       "    }\n",
       "\n",
       "    .dataframe thead th {\n",
       "        text-align: right;\n",
       "    }\n",
       "</style>\n",
       "<table border=\"1\" class=\"dataframe\">\n",
       "  <thead>\n",
       "    <tr style=\"text-align: right;\">\n",
       "      <th></th>\n",
       "      <th>age</th>\n",
       "      <th>anaemia</th>\n",
       "      <th>creatinine_phosphokinase</th>\n",
       "      <th>diabetes</th>\n",
       "      <th>ejection_fraction</th>\n",
       "      <th>high_blood_pressure</th>\n",
       "      <th>platelets</th>\n",
       "      <th>serum_creatinine</th>\n",
       "      <th>serum_sodium</th>\n",
       "      <th>sex</th>\n",
       "      <th>smoking</th>\n",
       "      <th>time</th>\n",
       "      <th>DEATH_EVENT</th>\n",
       "    </tr>\n",
       "  </thead>\n",
       "  <tbody>\n",
       "    <tr>\n",
       "      <th>0</th>\n",
       "      <td>75.0</td>\n",
       "      <td>0</td>\n",
       "      <td>582</td>\n",
       "      <td>0</td>\n",
       "      <td>20</td>\n",
       "      <td>1</td>\n",
       "      <td>265000.00</td>\n",
       "      <td>1.9</td>\n",
       "      <td>130</td>\n",
       "      <td>1</td>\n",
       "      <td>0</td>\n",
       "      <td>4</td>\n",
       "      <td>1</td>\n",
       "    </tr>\n",
       "    <tr>\n",
       "      <th>1</th>\n",
       "      <td>55.0</td>\n",
       "      <td>0</td>\n",
       "      <td>7861</td>\n",
       "      <td>0</td>\n",
       "      <td>38</td>\n",
       "      <td>0</td>\n",
       "      <td>263358.03</td>\n",
       "      <td>1.1</td>\n",
       "      <td>136</td>\n",
       "      <td>1</td>\n",
       "      <td>0</td>\n",
       "      <td>6</td>\n",
       "      <td>1</td>\n",
       "    </tr>\n",
       "    <tr>\n",
       "      <th>2</th>\n",
       "      <td>65.0</td>\n",
       "      <td>0</td>\n",
       "      <td>146</td>\n",
       "      <td>0</td>\n",
       "      <td>20</td>\n",
       "      <td>0</td>\n",
       "      <td>162000.00</td>\n",
       "      <td>1.3</td>\n",
       "      <td>129</td>\n",
       "      <td>1</td>\n",
       "      <td>1</td>\n",
       "      <td>7</td>\n",
       "      <td>1</td>\n",
       "    </tr>\n",
       "    <tr>\n",
       "      <th>3</th>\n",
       "      <td>50.0</td>\n",
       "      <td>1</td>\n",
       "      <td>111</td>\n",
       "      <td>0</td>\n",
       "      <td>20</td>\n",
       "      <td>0</td>\n",
       "      <td>210000.00</td>\n",
       "      <td>1.9</td>\n",
       "      <td>137</td>\n",
       "      <td>1</td>\n",
       "      <td>0</td>\n",
       "      <td>7</td>\n",
       "      <td>1</td>\n",
       "    </tr>\n",
       "    <tr>\n",
       "      <th>4</th>\n",
       "      <td>65.0</td>\n",
       "      <td>1</td>\n",
       "      <td>160</td>\n",
       "      <td>1</td>\n",
       "      <td>20</td>\n",
       "      <td>0</td>\n",
       "      <td>327000.00</td>\n",
       "      <td>2.7</td>\n",
       "      <td>116</td>\n",
       "      <td>0</td>\n",
       "      <td>0</td>\n",
       "      <td>8</td>\n",
       "      <td>1</td>\n",
       "    </tr>\n",
       "  </tbody>\n",
       "</table>\n",
       "</div>"
      ],
      "text/plain": [
       "    age  anaemia  creatinine_phosphokinase  diabetes  ejection_fraction  \\\n",
       "0  75.0        0                       582         0                 20   \n",
       "1  55.0        0                      7861         0                 38   \n",
       "2  65.0        0                       146         0                 20   \n",
       "3  50.0        1                       111         0                 20   \n",
       "4  65.0        1                       160         1                 20   \n",
       "\n",
       "   high_blood_pressure  platelets  serum_creatinine  serum_sodium  sex  \\\n",
       "0                    1  265000.00               1.9           130    1   \n",
       "1                    0  263358.03               1.1           136    1   \n",
       "2                    0  162000.00               1.3           129    1   \n",
       "3                    0  210000.00               1.9           137    1   \n",
       "4                    0  327000.00               2.7           116    0   \n",
       "\n",
       "   smoking  time  DEATH_EVENT  \n",
       "0        0     4            1  \n",
       "1        0     6            1  \n",
       "2        1     7            1  \n",
       "3        0     7            1  \n",
       "4        0     8            1  "
      ]
     },
     "execution_count": 2,
     "metadata": {},
     "output_type": "execute_result"
    }
   ],
   "source": [
    "data = pd.read_table(r\"C:\\Users\\Pragya\\Downloads\\heart+failure+clinical+records\\heart_failure_clinical_records_dataset.csv\",delimiter=\",\")\n",
    "data.head()"
   ]
  },
  {
   "cell_type": "code",
   "execution_count": null,
   "id": "b3ec8698-bd0c-4e8d-b76f-42d0c8824ff5",
   "metadata": {},
   "outputs": [],
   "source": []
  },
  {
   "cell_type": "code",
   "execution_count": null,
   "id": "4ad07427-a438-474e-9bca-1e2b2a3d2f83",
   "metadata": {},
   "outputs": [],
   "source": []
  },
  {
   "cell_type": "markdown",
   "id": "c85a6b94-551e-4d6b-b8c4-79ab616ff9de",
   "metadata": {},
   "source": [
    "# PREPROCESSING"
   ]
  },
  {
   "cell_type": "code",
   "execution_count": null,
   "id": "77a60274-e168-4de7-a13e-816b368cb839",
   "metadata": {},
   "outputs": [],
   "source": []
  },
  {
   "cell_type": "markdown",
   "id": "1501beaf-5160-4181-a528-45821c39263a",
   "metadata": {},
   "source": [
    "**SHAPE**"
   ]
  },
  {
   "cell_type": "code",
   "execution_count": 51,
   "id": "24dde0f3-f591-43a7-9853-87c4c9570f98",
   "metadata": {},
   "outputs": [
    {
     "name": "stdout",
     "output_type": "stream",
     "text": [
      "Shape of data Set is : (299, 13)\n"
     ]
    }
   ],
   "source": [
    "print(\"Shape of data Set is :\", data.shape)"
   ]
  },
  {
   "cell_type": "code",
   "execution_count": null,
   "id": "fce757d5-6046-46d1-8788-21f40e2e87a6",
   "metadata": {},
   "outputs": [],
   "source": []
  },
  {
   "cell_type": "code",
   "execution_count": null,
   "id": "58ca665d-40f4-4de3-81bf-6a4372dba239",
   "metadata": {},
   "outputs": [],
   "source": []
  },
  {
   "cell_type": "markdown",
   "id": "f682ed56-bf3b-4a52-b5e1-9223356458a0",
   "metadata": {},
   "source": [
    "**COLUMNS**"
   ]
  },
  {
   "cell_type": "code",
   "execution_count": 55,
   "id": "84ed3b18-836b-47e9-a866-2a948fb0d67e",
   "metadata": {},
   "outputs": [
    {
     "name": "stdout",
     "output_type": "stream",
     "text": [
      "There are total 13 columns :\n",
      "\n",
      " Index(['age', 'anaemia', 'creatinine_phosphokinase', 'diabetes',\n",
      "       'ejection_fraction', 'high_blood_pressure', 'platelets',\n",
      "       'serum_creatinine', 'serum_sodium', 'sex', 'smoking', 'time',\n",
      "       'DEATH_EVENT'],\n",
      "      dtype='object')\n"
     ]
    }
   ],
   "source": [
    "print(\"There are total 13 columns :\\n\\n\", data.columns)"
   ]
  },
  {
   "cell_type": "code",
   "execution_count": null,
   "id": "7bc195c1-6c6c-4dd9-9bc2-d48aa907b89a",
   "metadata": {},
   "outputs": [],
   "source": []
  },
  {
   "cell_type": "code",
   "execution_count": null,
   "id": "7b089b17-392c-45eb-a05c-d954abecc876",
   "metadata": {},
   "outputs": [],
   "source": []
  },
  {
   "cell_type": "markdown",
   "id": "b584c223-95f6-45d3-ae04-95c599928342",
   "metadata": {},
   "source": [
    "**DESCRIPTIVE STATISTICS**"
   ]
  },
  {
   "cell_type": "code",
   "execution_count": 41,
   "id": "16a96bf6-861e-4ecc-87a5-588bef60297f",
   "metadata": {},
   "outputs": [
    {
     "data": {
      "text/html": [
       "<div>\n",
       "<style scoped>\n",
       "    .dataframe tbody tr th:only-of-type {\n",
       "        vertical-align: middle;\n",
       "    }\n",
       "\n",
       "    .dataframe tbody tr th {\n",
       "        vertical-align: top;\n",
       "    }\n",
       "\n",
       "    .dataframe thead th {\n",
       "        text-align: right;\n",
       "    }\n",
       "</style>\n",
       "<table border=\"1\" class=\"dataframe\">\n",
       "  <thead>\n",
       "    <tr style=\"text-align: right;\">\n",
       "      <th></th>\n",
       "      <th>age</th>\n",
       "      <th>anaemia</th>\n",
       "      <th>creatinine_phosphokinase</th>\n",
       "      <th>diabetes</th>\n",
       "      <th>ejection_fraction</th>\n",
       "      <th>high_blood_pressure</th>\n",
       "      <th>platelets</th>\n",
       "      <th>serum_creatinine</th>\n",
       "      <th>serum_sodium</th>\n",
       "      <th>sex</th>\n",
       "      <th>smoking</th>\n",
       "      <th>time</th>\n",
       "      <th>DEATH_EVENT</th>\n",
       "    </tr>\n",
       "  </thead>\n",
       "  <tbody>\n",
       "    <tr>\n",
       "      <th>count</th>\n",
       "      <td>299.000000</td>\n",
       "      <td>299.000000</td>\n",
       "      <td>299.000000</td>\n",
       "      <td>299.000000</td>\n",
       "      <td>299.000000</td>\n",
       "      <td>299.000000</td>\n",
       "      <td>299.000000</td>\n",
       "      <td>299.00000</td>\n",
       "      <td>299.000000</td>\n",
       "      <td>299.000000</td>\n",
       "      <td>299.00000</td>\n",
       "      <td>299.000000</td>\n",
       "      <td>299.00000</td>\n",
       "    </tr>\n",
       "    <tr>\n",
       "      <th>mean</th>\n",
       "      <td>60.833893</td>\n",
       "      <td>0.431438</td>\n",
       "      <td>581.839465</td>\n",
       "      <td>0.418060</td>\n",
       "      <td>38.083612</td>\n",
       "      <td>0.351171</td>\n",
       "      <td>263358.029264</td>\n",
       "      <td>1.39388</td>\n",
       "      <td>136.625418</td>\n",
       "      <td>0.648829</td>\n",
       "      <td>0.32107</td>\n",
       "      <td>130.260870</td>\n",
       "      <td>0.32107</td>\n",
       "    </tr>\n",
       "    <tr>\n",
       "      <th>std</th>\n",
       "      <td>11.894809</td>\n",
       "      <td>0.496107</td>\n",
       "      <td>970.287881</td>\n",
       "      <td>0.494067</td>\n",
       "      <td>11.834841</td>\n",
       "      <td>0.478136</td>\n",
       "      <td>97804.236869</td>\n",
       "      <td>1.03451</td>\n",
       "      <td>4.412477</td>\n",
       "      <td>0.478136</td>\n",
       "      <td>0.46767</td>\n",
       "      <td>77.614208</td>\n",
       "      <td>0.46767</td>\n",
       "    </tr>\n",
       "    <tr>\n",
       "      <th>min</th>\n",
       "      <td>40.000000</td>\n",
       "      <td>0.000000</td>\n",
       "      <td>23.000000</td>\n",
       "      <td>0.000000</td>\n",
       "      <td>14.000000</td>\n",
       "      <td>0.000000</td>\n",
       "      <td>25100.000000</td>\n",
       "      <td>0.50000</td>\n",
       "      <td>113.000000</td>\n",
       "      <td>0.000000</td>\n",
       "      <td>0.00000</td>\n",
       "      <td>4.000000</td>\n",
       "      <td>0.00000</td>\n",
       "    </tr>\n",
       "    <tr>\n",
       "      <th>25%</th>\n",
       "      <td>51.000000</td>\n",
       "      <td>0.000000</td>\n",
       "      <td>116.500000</td>\n",
       "      <td>0.000000</td>\n",
       "      <td>30.000000</td>\n",
       "      <td>0.000000</td>\n",
       "      <td>212500.000000</td>\n",
       "      <td>0.90000</td>\n",
       "      <td>134.000000</td>\n",
       "      <td>0.000000</td>\n",
       "      <td>0.00000</td>\n",
       "      <td>73.000000</td>\n",
       "      <td>0.00000</td>\n",
       "    </tr>\n",
       "    <tr>\n",
       "      <th>50%</th>\n",
       "      <td>60.000000</td>\n",
       "      <td>0.000000</td>\n",
       "      <td>250.000000</td>\n",
       "      <td>0.000000</td>\n",
       "      <td>38.000000</td>\n",
       "      <td>0.000000</td>\n",
       "      <td>262000.000000</td>\n",
       "      <td>1.10000</td>\n",
       "      <td>137.000000</td>\n",
       "      <td>1.000000</td>\n",
       "      <td>0.00000</td>\n",
       "      <td>115.000000</td>\n",
       "      <td>0.00000</td>\n",
       "    </tr>\n",
       "    <tr>\n",
       "      <th>75%</th>\n",
       "      <td>70.000000</td>\n",
       "      <td>1.000000</td>\n",
       "      <td>582.000000</td>\n",
       "      <td>1.000000</td>\n",
       "      <td>45.000000</td>\n",
       "      <td>1.000000</td>\n",
       "      <td>303500.000000</td>\n",
       "      <td>1.40000</td>\n",
       "      <td>140.000000</td>\n",
       "      <td>1.000000</td>\n",
       "      <td>1.00000</td>\n",
       "      <td>203.000000</td>\n",
       "      <td>1.00000</td>\n",
       "    </tr>\n",
       "    <tr>\n",
       "      <th>max</th>\n",
       "      <td>95.000000</td>\n",
       "      <td>1.000000</td>\n",
       "      <td>7861.000000</td>\n",
       "      <td>1.000000</td>\n",
       "      <td>80.000000</td>\n",
       "      <td>1.000000</td>\n",
       "      <td>850000.000000</td>\n",
       "      <td>9.40000</td>\n",
       "      <td>148.000000</td>\n",
       "      <td>1.000000</td>\n",
       "      <td>1.00000</td>\n",
       "      <td>285.000000</td>\n",
       "      <td>1.00000</td>\n",
       "    </tr>\n",
       "  </tbody>\n",
       "</table>\n",
       "</div>"
      ],
      "text/plain": [
       "              age     anaemia  creatinine_phosphokinase    diabetes  \\\n",
       "count  299.000000  299.000000                299.000000  299.000000   \n",
       "mean    60.833893    0.431438                581.839465    0.418060   \n",
       "std     11.894809    0.496107                970.287881    0.494067   \n",
       "min     40.000000    0.000000                 23.000000    0.000000   \n",
       "25%     51.000000    0.000000                116.500000    0.000000   \n",
       "50%     60.000000    0.000000                250.000000    0.000000   \n",
       "75%     70.000000    1.000000                582.000000    1.000000   \n",
       "max     95.000000    1.000000               7861.000000    1.000000   \n",
       "\n",
       "       ejection_fraction  high_blood_pressure      platelets  \\\n",
       "count         299.000000           299.000000     299.000000   \n",
       "mean           38.083612             0.351171  263358.029264   \n",
       "std            11.834841             0.478136   97804.236869   \n",
       "min            14.000000             0.000000   25100.000000   \n",
       "25%            30.000000             0.000000  212500.000000   \n",
       "50%            38.000000             0.000000  262000.000000   \n",
       "75%            45.000000             1.000000  303500.000000   \n",
       "max            80.000000             1.000000  850000.000000   \n",
       "\n",
       "       serum_creatinine  serum_sodium         sex    smoking        time  \\\n",
       "count         299.00000    299.000000  299.000000  299.00000  299.000000   \n",
       "mean            1.39388    136.625418    0.648829    0.32107  130.260870   \n",
       "std             1.03451      4.412477    0.478136    0.46767   77.614208   \n",
       "min             0.50000    113.000000    0.000000    0.00000    4.000000   \n",
       "25%             0.90000    134.000000    0.000000    0.00000   73.000000   \n",
       "50%             1.10000    137.000000    1.000000    0.00000  115.000000   \n",
       "75%             1.40000    140.000000    1.000000    1.00000  203.000000   \n",
       "max             9.40000    148.000000    1.000000    1.00000  285.000000   \n",
       "\n",
       "       DEATH_EVENT  \n",
       "count    299.00000  \n",
       "mean       0.32107  \n",
       "std        0.46767  \n",
       "min        0.00000  \n",
       "25%        0.00000  \n",
       "50%        0.00000  \n",
       "75%        1.00000  \n",
       "max        1.00000  "
      ]
     },
     "execution_count": 41,
     "metadata": {},
     "output_type": "execute_result"
    }
   ],
   "source": [
    "data.describe()"
   ]
  },
  {
   "cell_type": "code",
   "execution_count": null,
   "id": "deda7756-0115-4ed6-802b-9df709f647e5",
   "metadata": {},
   "outputs": [],
   "source": []
  },
  {
   "cell_type": "code",
   "execution_count": null,
   "id": "10c0ca89-e836-4b61-b6ae-d2082b16c0f8",
   "metadata": {},
   "outputs": [],
   "source": []
  },
  {
   "cell_type": "markdown",
   "id": "5111e3fe-fa97-4cd6-a5c2-d46653b45ab8",
   "metadata": {},
   "source": [
    "**SUMMARIZED INFORMATION**"
   ]
  },
  {
   "cell_type": "code",
   "execution_count": 42,
   "id": "de4cdfa7-d0e9-4f6b-a36f-3e1f86348df6",
   "metadata": {},
   "outputs": [
    {
     "name": "stdout",
     "output_type": "stream",
     "text": [
      "<class 'pandas.core.frame.DataFrame'>\n",
      "RangeIndex: 299 entries, 0 to 298\n",
      "Data columns (total 13 columns):\n",
      " #   Column                    Non-Null Count  Dtype  \n",
      "---  ------                    --------------  -----  \n",
      " 0   age                       299 non-null    float64\n",
      " 1   anaemia                   299 non-null    int64  \n",
      " 2   creatinine_phosphokinase  299 non-null    int64  \n",
      " 3   diabetes                  299 non-null    int64  \n",
      " 4   ejection_fraction         299 non-null    int64  \n",
      " 5   high_blood_pressure       299 non-null    int64  \n",
      " 6   platelets                 299 non-null    float64\n",
      " 7   serum_creatinine          299 non-null    float64\n",
      " 8   serum_sodium              299 non-null    int64  \n",
      " 9   sex                       299 non-null    int64  \n",
      " 10  smoking                   299 non-null    int64  \n",
      " 11  time                      299 non-null    int64  \n",
      " 12  DEATH_EVENT               299 non-null    int64  \n",
      "dtypes: float64(3), int64(10)\n",
      "memory usage: 30.5 KB\n"
     ]
    }
   ],
   "source": [
    "data.info()"
   ]
  },
  {
   "cell_type": "code",
   "execution_count": null,
   "id": "5816d4fc-66a0-40b6-af23-c5fb41e1c160",
   "metadata": {},
   "outputs": [],
   "source": []
  },
  {
   "cell_type": "code",
   "execution_count": null,
   "id": "ea9f35c0-5c57-40ce-a662-cfddf40cf207",
   "metadata": {},
   "outputs": [],
   "source": []
  },
  {
   "cell_type": "markdown",
   "id": "29d8a54f-db63-4bc4-ba6b-b07b923a215a",
   "metadata": {},
   "source": [
    "**DUPLICATES**"
   ]
  },
  {
   "cell_type": "code",
   "execution_count": 43,
   "id": "0e6e588c-913a-4117-b8f8-eb6d6579fe1c",
   "metadata": {},
   "outputs": [
    {
     "data": {
      "text/plain": [
       "0"
      ]
     },
     "execution_count": 43,
     "metadata": {},
     "output_type": "execute_result"
    }
   ],
   "source": [
    "data.duplicated().sum()"
   ]
  },
  {
   "cell_type": "code",
   "execution_count": null,
   "id": "813a0a8e-ef17-4e01-a08c-59ec9508af16",
   "metadata": {},
   "outputs": [],
   "source": []
  },
  {
   "cell_type": "code",
   "execution_count": null,
   "id": "723edb79-839e-4670-a725-7d861ffa61f1",
   "metadata": {},
   "outputs": [],
   "source": []
  },
  {
   "cell_type": "markdown",
   "id": "11cdd905-b08c-441f-8381-62c18f3aaff9",
   "metadata": {},
   "source": [
    "**NULL VALUES**"
   ]
  },
  {
   "cell_type": "code",
   "execution_count": 23,
   "id": "c22bff4d-8686-4a96-96c6-0fcf93d7caf1",
   "metadata": {},
   "outputs": [
    {
     "data": {
      "text/plain": [
       "age                         0\n",
       "anaemia                     0\n",
       "creatinine_phosphokinase    0\n",
       "diabetes                    0\n",
       "ejection_fraction           0\n",
       "high_blood_pressure         0\n",
       "platelets                   0\n",
       "serum_creatinine            0\n",
       "serum_sodium                0\n",
       "sex                         0\n",
       "smoking                     0\n",
       "time                        0\n",
       "DEATH_EVENT                 0\n",
       "dtype: int64"
      ]
     },
     "execution_count": 23,
     "metadata": {},
     "output_type": "execute_result"
    }
   ],
   "source": [
    "data.isnull().sum()"
   ]
  },
  {
   "cell_type": "markdown",
   "id": "b56862a8-0764-4d3f-91fd-cbf6c1a74219",
   "metadata": {},
   "source": [
    "No missing values are detected."
   ]
  },
  {
   "cell_type": "code",
   "execution_count": null,
   "id": "4e51749f-59d0-4475-9f49-f9e575453d64",
   "metadata": {},
   "outputs": [],
   "source": []
  },
  {
   "cell_type": "code",
   "execution_count": null,
   "id": "e7dbf8a8-e4ec-4fb6-b3be-467bf404f0c9",
   "metadata": {},
   "outputs": [],
   "source": []
  },
  {
   "cell_type": "markdown",
   "id": "04225f9d-ed46-4544-939e-61ad740fed39",
   "metadata": {},
   "source": [
    "**ANAMOLY DETECTION**"
   ]
  },
  {
   "cell_type": "code",
   "execution_count": 19,
   "id": "a4ca1a26-9c60-4f96-aee4-3900dd9161cd",
   "metadata": {},
   "outputs": [
    {
     "name": "stdout",
     "output_type": "stream",
     "text": [
      "{'age': array([75.   , 55.   , 65.   , 50.   , 90.   , 60.   , 80.   , 62.   ,\n",
      "       45.   , 49.   , 82.   , 87.   , 70.   , 48.   , 68.   , 53.   ,\n",
      "       95.   , 58.   , 94.   , 85.   , 69.   , 72.   , 51.   , 57.   ,\n",
      "       42.   , 41.   , 67.   , 79.   , 59.   , 44.   , 63.   , 86.   ,\n",
      "       66.   , 43.   , 46.   , 61.   , 81.   , 52.   , 64.   , 40.   ,\n",
      "       60.667, 73.   , 77.   , 78.   , 54.   , 47.   , 56.   ])}\n",
      "{'anaemia': array([0, 1], dtype=int64)}\n",
      "{'creatinine_phosphokinase': array([ 582, 7861,  146,  111,  160,   47,  246,  315,  157,  123,   81,\n",
      "        231,  981,  168,   80,  379,  149,  125,   52,  128,  220,   63,\n",
      "        148,  112,  122,   60,   70,   23,  249,  159,   94,  855, 2656,\n",
      "        235,  124,  571,  127,  588, 1380,  553,  129,  577,   91, 3964,\n",
      "         69,  260,  371,   75,  607,  789,  364, 7702,  318,  109,   68,\n",
      "        250,  110,  161,  113, 5882,  224,   92,  102,  203,  336,   76,\n",
      "         55,  280,   78,   84,  115,   66,  897,  154,  144,  133,  514,\n",
      "         59,  156,   61,  305,  898, 5209,   53,  328,  748, 1876,  936,\n",
      "        292,  369,  143,  754,  400,   96,  737,  358,  200,  248,  270,\n",
      "       1808, 1082,  719,  193, 4540,  646,  281, 1548,  805,  291,  482,\n",
      "        943,  185,  132, 1610, 2261,  233,   30, 1846,  335,   58,  910,\n",
      "         72,  130, 2334, 2442,  776,  196,  835, 3966,  171,  198,   95,\n",
      "       1419,  478,  176,  395,   99,  145,  104, 1896,  151,  244,   62,\n",
      "        121,  418,  167, 1211, 1767,  308,   97,   64,  101,  212, 2281,\n",
      "        972,  131,  135, 1202,  427, 1021,  118,   86,  675,   57, 2794,\n",
      "         56,  211,  166,   93,  707,  119,  232,  720,  180,   90, 1185,\n",
      "       2017,  624,  207, 2522,  572,  245,   88,  446,  191,  326,  655,\n",
      "        258,  298, 1199,  213,  257,  618, 1051, 2695, 1688,   54,  170,\n",
      "        253,  892,  337,  615,  320,  190,  103, 1820, 2060, 2413],\n",
      "      dtype=int64)}\n",
      "{'diabetes': array([0, 1], dtype=int64)}\n",
      "{'ejection_fraction': array([20, 38, 40, 15, 60, 65, 35, 25, 30, 50, 14, 55, 45, 62, 80, 17, 70],\n",
      "      dtype=int64)}\n",
      "{'high_blood_pressure': array([1, 0], dtype=int64)}\n",
      "{'platelets': array([265000.  , 263358.03, 162000.  , 210000.  , 327000.  , 204000.  ,\n",
      "       127000.  , 454000.  , 388000.  , 368000.  , 253000.  , 136000.  ,\n",
      "       276000.  , 427000.  ,  47000.  , 262000.  , 166000.  , 237000.  ,\n",
      "        87000.  , 297000.  , 289000.  , 149000.  , 196000.  , 284000.  ,\n",
      "       153000.  , 200000.  , 360000.  , 319000.  , 302000.  , 188000.  ,\n",
      "       228000.  , 226000.  , 321000.  , 305000.  , 329000.  , 185000.  ,\n",
      "       218000.  , 194000.  , 310000.  , 271000.  , 451000.  , 140000.  ,\n",
      "       395000.  , 418000.  , 351000.  , 255000.  , 461000.  , 223000.  ,\n",
      "       216000.  , 254000.  , 390000.  , 385000.  , 119000.  , 213000.  ,\n",
      "       274000.  , 244000.  , 497000.  , 374000.  , 122000.  , 243000.  ,\n",
      "       266000.  , 317000.  , 283000.  , 324000.  , 293000.  , 172000.  ,\n",
      "       406000.  , 173000.  , 304000.  , 235000.  , 181000.  , 249000.  ,\n",
      "       219000.  , 318000.  , 221000.  , 298000.  , 286000.  , 621000.  ,\n",
      "       263000.  , 850000.  , 306000.  , 252000.  , 328000.  , 164000.  ,\n",
      "       507000.  , 203000.  , 217000.  , 300000.  , 267000.  , 227000.  ,\n",
      "       250000.  , 295000.  , 231000.  , 211000.  , 348000.  , 229000.  ,\n",
      "       338000.  , 242000.  , 225000.  , 184000.  , 277000.  , 362000.  ,\n",
      "       174000.  , 448000.  ,  75000.  , 334000.  , 192000.  , 220000.  ,\n",
      "        70000.  , 270000.  , 325000.  , 176000.  , 189000.  , 281000.  ,\n",
      "       337000.  , 105000.  , 132000.  , 279000.  , 303000.  , 224000.  ,\n",
      "       389000.  , 365000.  , 201000.  , 275000.  , 350000.  , 309000.  ,\n",
      "       260000.  , 160000.  , 126000.  , 259000.  ,  73000.  , 377000.  ,\n",
      "       212000.  , 186000.  , 268000.  , 147000.  , 481000.  , 290000.  ,\n",
      "       358000.  , 151000.  , 371000.  , 130000.  , 504000.  , 141000.  ,\n",
      "        62000.  , 330000.  , 248000.  , 257000.  , 533000.  , 264000.  ,\n",
      "       282000.  , 314000.  , 246000.  , 301000.  , 404000.  , 236000.  ,\n",
      "       294000.  , 233000.  , 308000.  , 198000.  , 208000.  , 133000.  ,\n",
      "       222000.  , 215000.  , 150000.  , 422000.  ,  25100.  , 232000.  ,\n",
      "       241000.  ,  51000.  , 336000.  , 543000.  , 382000.  , 179000.  ,\n",
      "       155000.  , 742000.  ])}\n",
      "{'serum_creatinine': array([1.9 , 1.1 , 1.3 , 2.7 , 2.1 , 1.2 , 1.5 , 9.4 , 4.  , 0.9 , 1.  ,\n",
      "       0.8 , 1.6 , 1.83, 5.8 , 3.  , 3.5 , 2.3 , 0.6 , 4.4 , 1.4 , 6.8 ,\n",
      "       2.2 , 2.  , 1.18, 2.9 , 0.7 , 1.7 , 2.5 , 1.8 , 3.2 , 0.75, 3.7 ,\n",
      "       3.4 , 6.1 , 2.4 , 9.  , 5.  , 0.5 , 3.8 ])}\n",
      "{'serum_sodium': array([130, 136, 129, 137, 116, 132, 131, 138, 133, 140, 127, 121, 135,\n",
      "       134, 144, 128, 145, 142, 139, 146, 141, 143, 126, 124, 113, 125,\n",
      "       148], dtype=int64)}\n",
      "{'sex': array([1, 0], dtype=int64)}\n",
      "{'smoking': array([0, 1], dtype=int64)}\n",
      "{'time': array([  4,   6,   7,   8,  10,  11,  12,  13,  14,  15,  16,  20,  22,\n",
      "        23,  24,  26,  27,  28,  29,  30,  31,  32,  33,  35,  38,  40,\n",
      "        41,  42,  43,  44,  45,  50,  54,  55,  59,  60,  61,  63,  64,\n",
      "        65,  66,  67,  68,  71,  72,  73,  74,  75,  76,  77,  78,  79,\n",
      "        80,  82,  83,  85,  86,  87,  88,  90,  91,  94,  95,  96,  97,\n",
      "       100, 104, 105, 106, 107, 108, 109, 110, 111, 112, 113, 115, 117,\n",
      "       118, 119, 120, 121, 123, 126, 129, 130, 134, 135, 140, 145, 146,\n",
      "       147, 148, 150, 154, 162, 170, 171, 172, 174, 175, 180, 185, 186,\n",
      "       187, 188, 192, 193, 194, 195, 196, 197, 198, 200, 201, 205, 206,\n",
      "       207, 208, 209, 210, 211, 212, 213, 214, 215, 216, 220, 230, 231,\n",
      "       233, 235, 237, 240, 241, 244, 245, 246, 247, 250, 256, 257, 258,\n",
      "       270, 271, 278, 280, 285], dtype=int64)}\n",
      "{'DEATH_EVENT': array([1, 0], dtype=int64)}\n"
     ]
    }
   ],
   "source": [
    "for i in data.columns:\n",
    "    print({i:data[i].unique()})"
   ]
  },
  {
   "cell_type": "markdown",
   "id": "ab8cff89-255b-4515-9737-8e159efabdce",
   "metadata": {},
   "source": [
    "No anamoly detected.  \n",
    "All data type is present in proper format"
   ]
  },
  {
   "cell_type": "code",
   "execution_count": null,
   "id": "fced6713-4ede-42d7-b3df-7f35f7bd2240",
   "metadata": {},
   "outputs": [],
   "source": []
  },
  {
   "cell_type": "code",
   "execution_count": null,
   "id": "424f2ca3-0efb-4a24-91c6-0af7d06fccec",
   "metadata": {},
   "outputs": [],
   "source": []
  },
  {
   "cell_type": "markdown",
   "id": "9fed0200-cfe9-43c0-a27a-660fa89bc64c",
   "metadata": {},
   "source": [
    "**TARGET VARIABLE DISTRIBUTION**"
   ]
  },
  {
   "cell_type": "code",
   "execution_count": 44,
   "id": "d3a91199-45be-4365-8a47-82a3a957183f",
   "metadata": {},
   "outputs": [
    {
     "data": {
      "text/plain": [
       "DEATH_EVENT\n",
       "0    203\n",
       "1     96\n",
       "Name: count, dtype: int64"
      ]
     },
     "execution_count": 44,
     "metadata": {},
     "output_type": "execute_result"
    }
   ],
   "source": [
    "data['DEATH_EVENT'].value_counts()"
   ]
  },
  {
   "cell_type": "markdown",
   "id": "a53c0cf0-1c0a-43de-9565-ac4895e1d6a0",
   "metadata": {},
   "source": [
    "Distribution of Target variable is:  \n",
    "class 0 --> 203  \n",
    "class 1 --> 96\n",
    "\n",
    "By Observing the class distribution we can say that dataset is imbalance  \n",
    "we have to make it balance so that we can built a good model."
   ]
  },
  {
   "cell_type": "code",
   "execution_count": null,
   "id": "e12f41f1-3458-4198-9cac-45ecf85e29de",
   "metadata": {},
   "outputs": [],
   "source": []
  },
  {
   "cell_type": "code",
   "execution_count": null,
   "id": "58133886-4e23-4fdc-9ea2-8df339f51867",
   "metadata": {},
   "outputs": [],
   "source": []
  },
  {
   "cell_type": "markdown",
   "id": "c171b6de-e5a7-4225-9c52-f79ef954e0a7",
   "metadata": {},
   "source": [
    "# DATA VISUALIZATION"
   ]
  },
  {
   "cell_type": "markdown",
   "id": "af6a59c9-7bbe-4eb8-ba70-8347148083d2",
   "metadata": {},
   "source": [
    "1. Age vs DEATH_EVENT (Survival Analysis)  \n",
    "Plot Type: Boxplot / Violin Plot\n",
    "\n",
    "Insight: Dekhne ke liye ki kya umr zyada hone se death risk badhta hai."
   ]
  },
  {
   "cell_type": "code",
   "execution_count": 27,
   "id": "2ba254d7-078b-4c09-8b8c-5ccc1cab8408",
   "metadata": {},
   "outputs": [
    {
     "data": {
      "image/png": "[encoded data removed]",
      "text/plain": [
       "<Figure size 600x400 with 1 Axes>"
      ]
     },
     "metadata": {},
     "output_type": "display_data"
    }
   ],
   "source": [
    "import seaborn as sns\n",
    "import matplotlib.pyplot as plt\n",
    "\n",
    "plt.figure(figsize=(6,4))\n",
    "sns.boxplot(x=data[\"DEATH_EVENT\"], y=data[\"age\"])\n",
    "plt.xlabel(\"Death Event (0: Survived, 1: Died)\")\n",
    "plt.ylabel(\"Age\")\n",
    "plt.title(\"Age vs Death Event\")\n",
    "plt.show()"
   ]
  },
  {
   "cell_type": "code",
   "execution_count": null,
   "id": "f7389ebe-30eb-4996-859d-654d49a8e844",
   "metadata": {},
   "outputs": [],
   "source": []
  },
  {
   "cell_type": "markdown",
   "id": "3a5c1732-165c-4c67-9ec9-f59277590f1c",
   "metadata": {},
   "source": [
    "2. Ejection Fraction vs DEATH_EVENT  \n",
    "Plot Type: Boxplot / Violin Plot\n",
    "\n",
    "Insight: Ejection Fraction (Heart Pumping Capacity) ka impact death rate pe.\n"
   ]
  },
  {
   "cell_type": "code",
   "execution_count": 28,
   "id": "d46158a6-9cc9-41a6-a831-42b1aa5bf589",
   "metadata": {},
   "outputs": [
    {
     "data": {
      "image/png": "[encoded data removed]",
      "text/plain": [
       "<Figure size 600x400 with 1 Axes>"
      ]
     },
     "metadata": {},
     "output_type": "display_data"
    }
   ],
   "source": [
    "plt.figure(figsize=(6,4))\n",
    "sns.boxplot(x=data[\"DEATH_EVENT\"], y=data[\"ejection_fraction\"])\n",
    "plt.xlabel(\"Death Event\")\n",
    "plt.ylabel(\"Ejection Fraction (%)\")\n",
    "plt.title(\"Ejection Fraction vs Death Event\")\n",
    "plt.show()"
   ]
  },
  {
   "cell_type": "code",
   "execution_count": null,
   "id": "b14bc141-2893-466d-9450-c545340185a6",
   "metadata": {},
   "outputs": [],
   "source": []
  },
  {
   "cell_type": "markdown",
   "id": "3743adbd-fb3d-4345-8393-a489da5384b1",
   "metadata": {},
   "source": [
    "3. Serum Creatinine vs DEATH_EVENT\n",
    "Plot Type: Boxplot\n",
    "\n",
    "Insight: Kidney function ka impact heart failure pe.\n"
   ]
  },
  {
   "cell_type": "code",
   "execution_count": 30,
   "id": "1f460c28-5f99-4491-b669-aa3112a4eb6a",
   "metadata": {},
   "outputs": [
    {
     "data": {
      "image/png": "[encoded data removed]",
      "text/plain": [
       "<Figure size 600x400 with 1 Axes>"
      ]
     },
     "metadata": {},
     "output_type": "display_data"
    }
   ],
   "source": [
    "plt.figure(figsize=(6,4))\n",
    "sns.boxplot(x=data[\"DEATH_EVENT\"], y=data[\"serum_creatinine\"])\n",
    "plt.xlabel(\"Death Event\")\n",
    "plt.ylabel(\"Serum Creatinine (mg/dL)\")\n",
    "plt.title(\"Serum Creatinine vs Death Event\")\n",
    "plt.show()"
   ]
  },
  {
   "cell_type": "code",
   "execution_count": null,
   "id": "e0af5708-706f-4bd3-b466-c1cabcb96445",
   "metadata": {},
   "outputs": [],
   "source": []
  },
  {
   "cell_type": "markdown",
   "id": "1ee47740-1827-4044-b9de-e6b9b675f578",
   "metadata": {},
   "source": [
    "4. Smoking vs DEATH_EVENT  \n",
    "Plot Type: Countplot\n",
    "\n",
    "Insight: Smoking ka effect death event pe.\n"
   ]
  },
  {
   "cell_type": "code",
   "execution_count": 31,
   "id": "057a99aa-f833-4208-ad11-ff93b5f26c61",
   "metadata": {},
   "outputs": [
    {
     "data": {
      "image/png": "[encoded data removed]",
      "text/plain": [
       "<Figure size 640x480 with 1 Axes>"
      ]
     },
     "metadata": {},
     "output_type": "display_data"
    }
   ],
   "source": [
    "sns.countplot(x=data[\"smoking\"], hue=data[\"DEATH_EVENT\"])\n",
    "plt.xlabel(\"Smoking (0: No, 1: Yes)\")\n",
    "plt.ylabel(\"Count\")\n",
    "plt.title(\"Smoking vs Death Event\")\n",
    "plt.legend([\"Survived\", \"Died\"])\n",
    "plt.show()"
   ]
  },
  {
   "cell_type": "code",
   "execution_count": null,
   "id": "10ba4a9b-1896-4660-a48b-5ef45f708b82",
   "metadata": {},
   "outputs": [],
   "source": []
  },
  {
   "cell_type": "markdown",
   "id": "0a2feb00-568f-4196-9b90-a4b3625dbea8",
   "metadata": {},
   "source": [
    "5. Correlation Matrix (Heatmap)  \n",
    "Plot Type: Heatmap\n",
    "\n",
    "Insight: Variables ke beech correlation dekhne ke liye.\n"
   ]
  },
  {
   "cell_type": "code",
   "execution_count": 32,
   "id": "df72307f-98b7-4b2c-8d9d-7b6b50134292",
   "metadata": {},
   "outputs": [
    {
     "data": {
      "image/png": "[encoded data removed]",
      "text/plain": [
       "<Figure size 1000x600 with 2 Axes>"
      ]
     },
     "metadata": {},
     "output_type": "display_data"
    }
   ],
   "source": [
    "plt.figure(figsize=(10,6))\n",
    "sns.heatmap(data.corr(), annot=True, cmap=\"coolwarm\", fmt=\".2f\")\n",
    "plt.title(\"Correlation Heatmap\")\n",
    "plt.show()"
   ]
  },
  {
   "cell_type": "code",
   "execution_count": null,
   "id": "1404c7a7-1d03-4d0d-894c-18439d593ddf",
   "metadata": {},
   "outputs": [],
   "source": []
  },
  {
   "cell_type": "code",
   "execution_count": 39,
   "id": "ad8578ca-0b53-4517-a3b0-b6dce3bcd098",
   "metadata": {},
   "outputs": [
    {
     "data": {
      "image/png": "[encoded data removed]",
      "text/plain": [
       "<Figure size 1500x1000 with 7 Axes>"
      ]
     },
     "metadata": {},
     "output_type": "display_data"
    }
   ],
   "source": [
    "numerical_columns = [\"age\", \"creatinine_phosphokinase\", \"ejection_fraction\", \"platelets\", \"serum_creatinine\", \"serum_sodium\", \"time\"]\n",
    "\n",
    "plt.figure(figsize=(15, 10))\n",
    "for i, col in enumerate(numerical_columns, 1):\n",
    "    plt.subplot(3, 3, i)\n",
    "    sns.boxplot(x=data[\"DEATH_EVENT\"], y=data[col])\n",
    "    plt.title(f\"{col} vs DEATH_EVENT\")\n",
    "\n",
    "plt.tight_layout()\n",
    "plt.show()"
   ]
  },
  {
   "cell_type": "code",
   "execution_count": 35,
   "id": "462d492b-e4f9-497a-ac1a-84c425f15052",
   "metadata": {},
   "outputs": [
    {
     "data": {
      "image/png": "[encoded data removed]",
      "text/plain": [
       "<Figure size 1200x800 with 1 Axes>"
      ]
     },
     "metadata": {},
     "output_type": "display_data"
    }
   ],
   "source": [
    "import seaborn as sns\n",
    "import matplotlib.pyplot as plt\n",
    "\n",
    "# Creating boxplots for all numerical columns\n",
    "plt.figure(figsize=(12, 8))\n",
    "data.boxplot(rot=45)  # Rotating labels for better visibility\n",
    "plt.title(\"Boxplot of All Numerical Variables\")\n",
    "plt.show()"
   ]
  },
  {
   "cell_type": "markdown",
   "id": "84cb4463-09f8-43f9-b591-1d6918922727",
   "metadata": {},
   "source": [
    "Outliers detected in this variable should not be treated as outliers  \n",
    "because this data set is a dataset of patients which might be high and low "
   ]
  },
  {
   "cell_type": "code",
   "execution_count": null,
   "id": "e7db9252-7576-4fcf-9e9b-9f15098ca18f",
   "metadata": {},
   "outputs": [],
   "source": []
  },
  {
   "cell_type": "code",
   "execution_count": null,
   "id": "19ecde92-7bb2-49da-9c68-1d86696a25ba",
   "metadata": {},
   "outputs": [],
   "source": []
  },
  {
   "cell_type": "markdown",
   "id": "13183ac7-8360-46c6-b668-918f31e34a14",
   "metadata": {},
   "source": [
    "**HISTPLOT**"
   ]
  },
  {
   "cell_type": "code",
   "execution_count": 6,
   "id": "8fd07fb0-b86f-473d-864f-7e46e0eef4e6",
   "metadata": {},
   "outputs": [
    {
     "data": {
      "image/png": "[encoded data removed]",
      "text/plain": [
       "<Figure size 640x480 with 1 Axes>"
      ]
     },
     "metadata": {},
     "output_type": "display_data"
    }
   ],
   "source": [
    "import seaborn as sns\n",
    "import matplotlib.pyplot as plt\n",
    "\n",
    "sns.histplot(data, x=\"age\", hue=\"DEATH_EVENT\", kde=True, bins=20)\n",
    "plt.show()"
   ]
  },
  {
   "cell_type": "markdown",
   "id": "a6dbea75-cc94-4c8d-8a4e-5ccaf55df9d5",
   "metadata": {},
   "source": [
    "I am plotting a histplot:  \n",
    "To see if a particular age group is more prone to heart failure.\n",
    "\n",
    "\n",
    "By observing the histplot we can say that:  \n",
    "death because of heart failure is more likely in age between 70 to 90"
   ]
  },
  {
   "cell_type": "code",
   "execution_count": null,
   "id": "2680291e-582c-4f51-bbc9-2e483719e1a2",
   "metadata": {},
   "outputs": [],
   "source": []
  },
  {
   "cell_type": "code",
   "execution_count": null,
   "id": "7425f837-91be-4725-aaa2-149dc12a7e46",
   "metadata": {},
   "outputs": [],
   "source": []
  },
  {
   "cell_type": "markdown",
   "id": "b333c31a-6cc0-4330-b781-be323c160d43",
   "metadata": {},
   "source": [
    "**BOXPLOT**"
   ]
  },
  {
   "cell_type": "code",
   "execution_count": 7,
   "id": "3e128662-5763-48d1-a064-dc92b865392b",
   "metadata": {},
   "outputs": [
    {
     "data": {
      "image/png": "[encoded data removed]",
      "text/plain": [
       "<Figure size 640x480 with 1 Axes>"
      ]
     },
     "metadata": {},
     "output_type": "display_data"
    }
   ],
   "source": [
    "sns.boxplot(x=\"DEATH_EVENT\", y=\"age\", data=data)\n",
    "plt.show()"
   ]
  },
  {
   "cell_type": "markdown",
   "id": "6aeb8b7a-32f0-4747-a8ba-a3de5e3580c9",
   "metadata": {},
   "source": [
    "Since, age 90 is detected as outlier but age is 90 is usual and people live till the age of 90   \n",
    "so it should be treated as outlier"
   ]
  },
  {
   "cell_type": "code",
   "execution_count": null,
   "id": "5944a8c7-55f6-4f35-b9ea-079c90637ac7",
   "metadata": {},
   "outputs": [],
   "source": []
  },
  {
   "cell_type": "code",
   "execution_count": null,
   "id": "4eb119bd-df1b-46ff-8491-857139726773",
   "metadata": {},
   "outputs": [],
   "source": []
  },
  {
   "cell_type": "markdown",
   "id": "0597a6a2-c791-4f73-8258-1505e5b96fa6",
   "metadata": {},
   "source": [
    "**COUNTPLOT**"
   ]
  },
  {
   "cell_type": "code",
   "execution_count": null,
   "id": "c0522a0a-8b3e-4a98-8f2b-a7ca1d5a6968",
   "metadata": {},
   "outputs": [],
   "source": [
    "# To check whether smoking or high blood pressure increases the risk of death."
   ]
  },
  {
   "cell_type": "code",
   "execution_count": 8,
   "id": "654c23f3-f65f-4084-9278-8754055a27da",
   "metadata": {},
   "outputs": [
    {
     "data": {
      "image/png": "[encoded data removed]",
      "text/plain": [
       "<Figure size 640x480 with 1 Axes>"
      ]
     },
     "metadata": {},
     "output_type": "display_data"
    }
   ],
   "source": [
    "sns.countplot(x=\"smoking\", hue=\"DEATH_EVENT\", data=data)\n",
    "plt.show()"
   ]
  },
  {
   "cell_type": "code",
   "execution_count": null,
   "id": "8c9f290c-54ae-42ef-94e7-759d2d7f6029",
   "metadata": {},
   "outputs": [],
   "source": []
  },
  {
   "cell_type": "code",
   "execution_count": null,
   "id": "ce44b3d6-6415-45d0-9462-a688d74756d6",
   "metadata": {},
   "outputs": [],
   "source": []
  },
  {
   "cell_type": "markdown",
   "id": "41e1332c-33c8-47db-857c-37ffa60d18f8",
   "metadata": {},
   "source": [
    "# DATA PREPROCESSING"
   ]
  },
  {
   "cell_type": "code",
   "execution_count": null,
   "id": "e27fe809-e825-4934-909d-fc09adfe0564",
   "metadata": {},
   "outputs": [],
   "source": []
  },
  {
   "cell_type": "code",
   "execution_count": null,
   "id": "843374f6-840d-44dc-be87-35e119dbc8b3",
   "metadata": {},
   "outputs": [],
   "source": []
  },
  {
   "cell_type": "markdown",
   "id": "93eeaaec-8d16-43c3-b2db-071121a37ffd",
   "metadata": {},
   "source": [
    "**CONVERTING CATEGORICAL DATA TO NUMERICAL DATA**"
   ]
  },
  {
   "cell_type": "code",
   "execution_count": 10,
   "id": "c9815888-7021-4f2c-8cbb-90d212c5c7f3",
   "metadata": {},
   "outputs": [
    {
     "name": "stdout",
     "output_type": "stream",
     "text": [
      "[]\n"
     ]
    }
   ],
   "source": [
    "colname=[]\n",
    "for x in data.columns:\n",
    "    if data[x].dtype=='object':\n",
    "        colname.append(x)\n",
    "print(colname)\n",
    "\n",
    "\n",
    "\n",
    "# appliying fit transform method to all the columns (transform_method) i.e categorical to numerical\n",
    "# For preprocessing the data\n",
    "from sklearn.preprocessing import LabelEncoder\n",
    " \n",
    "le=LabelEncoder()\n",
    " \n",
    "for x in colname:\n",
    "    data[x]=le.fit_transform(data[x])\n",
    "  "
   ]
  },
  {
   "cell_type": "code",
   "execution_count": null,
   "id": "6cbdefeb-c78f-4164-9e18-2b5958116fad",
   "metadata": {},
   "outputs": [],
   "source": []
  },
  {
   "cell_type": "code",
   "execution_count": null,
   "id": "50c120f9-b39d-434f-91fd-6b4a6aed0e5f",
   "metadata": {},
   "outputs": [],
   "source": []
  },
  {
   "cell_type": "markdown",
   "id": "102c69a6-5a7e-4cd3-8acc-4717a6b034bc",
   "metadata": {},
   "source": [
    "**CREATING X AND Y**"
   ]
  },
  {
   "cell_type": "code",
   "execution_count": 11,
   "id": "2612f0ac-a3ad-4f98-86fc-c339753b600e",
   "metadata": {},
   "outputs": [],
   "source": [
    "X = data.loc[:,['age', 'anaemia', 'creatinine_phosphokinase', 'diabetes',\n",
    "       'ejection_fraction', 'high_blood_pressure', 'platelets',\n",
    "       'serum_creatinine', 'serum_sodium', 'sex', 'smoking', 'time']]\n",
    "Y = data.loc[:,'DEATH_EVENT']\n"
   ]
  },
  {
   "cell_type": "code",
   "execution_count": null,
   "id": "cddb2a57-c8f1-4512-bf77-b44b0fc37595",
   "metadata": {},
   "outputs": [],
   "source": []
  },
  {
   "cell_type": "code",
   "execution_count": null,
   "id": "842e1f8d-b532-4152-bfd0-08ddf68ce32b",
   "metadata": {},
   "outputs": [],
   "source": []
  },
  {
   "cell_type": "markdown",
   "id": "d191eb17-988e-4e15-8b24-83f6a73cf72e",
   "metadata": {},
   "source": [
    "**SCALING THE DATA**"
   ]
  },
  {
   "cell_type": "code",
   "execution_count": 12,
   "id": "41636667-ada7-48c3-98a7-4f124f98f50f",
   "metadata": {},
   "outputs": [
    {
     "data": {
      "text/plain": [
       "array([[ 1.19294523e+00, -8.71104775e-01,  1.65728387e-04, ...,\n",
       "         7.35688190e-01, -6.87681906e-01, -1.62950241e+00],\n",
       "       [-4.91279276e-01, -8.71104775e-01,  7.51463953e+00, ...,\n",
       "         7.35688190e-01, -6.87681906e-01, -1.60369074e+00],\n",
       "       [ 3.50832977e-01, -8.71104775e-01, -4.49938761e-01, ...,\n",
       "         7.35688190e-01,  1.45416070e+00, -1.59078490e+00],\n",
       "       ...,\n",
       "       [-1.33339153e+00, -8.71104775e-01,  1.52597865e+00, ...,\n",
       "        -1.35927151e+00, -6.87681906e-01,  1.90669738e+00],\n",
       "       [-1.33339153e+00, -8.71104775e-01,  1.89039811e+00, ...,\n",
       "         7.35688190e-01,  1.45416070e+00,  1.93250906e+00],\n",
       "       [-9.12335403e-01, -8.71104775e-01, -3.98321274e-01, ...,\n",
       "         7.35688190e-01,  1.45416070e+00,  1.99703825e+00]])"
      ]
     },
     "execution_count": 12,
     "metadata": {},
     "output_type": "execute_result"
    }
   ],
   "source": [
    "from sklearn.preprocessing import StandardScaler\n",
    "\n",
    "scaler = StandardScaler()    \n",
    "\n",
    "scaler.fit(X)                \n",
    "scaler.transform(X)"
   ]
  },
  {
   "cell_type": "code",
   "execution_count": null,
   "id": "53c4290f-5292-47a8-a096-98f3a605fa85",
   "metadata": {},
   "outputs": [],
   "source": []
  },
  {
   "cell_type": "code",
   "execution_count": null,
   "id": "0575f0c6-cea4-4d89-a8a2-e5b52ac9f55e",
   "metadata": {},
   "outputs": [],
   "source": []
  },
  {
   "cell_type": "markdown",
   "id": "507091cc-dfe8-4999-8b9b-8a6b9e4fdf17",
   "metadata": {},
   "source": [
    "**SPLITTING DATA INTO TRAIN AND TEST**"
   ]
  },
  {
   "cell_type": "code",
   "execution_count": 42,
   "id": "e0829837-18d3-42d2-96df-96010cce4bdf",
   "metadata": {},
   "outputs": [],
   "source": [
    "# splitting the data into test and train\n",
    "from sklearn.model_selection import train_test_split\n",
    "\n",
    "# split the data into test and train\n",
    "X_train,X_test,Y_train,Y_test = train_test_split(X,Y,test_size=0.3,random_state = 10)  "
   ]
  },
  {
   "cell_type": "code",
   "execution_count": null,
   "id": "9dd7fc41-2351-4826-ae7d-3e5959cb98d2",
   "metadata": {},
   "outputs": [],
   "source": []
  },
  {
   "cell_type": "code",
   "execution_count": null,
   "id": "f74b3e86-3725-4e57-9e37-0cfc7c0cf964",
   "metadata": {},
   "outputs": [],
   "source": []
  },
  {
   "cell_type": "code",
   "execution_count": 43,
   "id": "72d5dd5e-6c4d-4c2b-b76a-f2735e25122a",
   "metadata": {},
   "outputs": [
    {
     "name": "stdout",
     "output_type": "stream",
     "text": [
      "Before OverSampling, counts of label '1':  67\n",
      "Before OverSampling, counts of label '0':  142\n",
      "After OverSampling, the shape of train_X:  (284, 12)\n",
      "After OverSampling, the shape of train_y:  (284,)\n",
      "After OverSampling, counts of label '1':  142\n",
      "After OverSampling, counts of label '0':  142\n"
     ]
    }
   ],
   "source": [
    "print(\"Before OverSampling, counts of label '1': \", (sum(Y_train == 1)))\n",
    "print(\"Before OverSampling, counts of label '0': \", (sum(Y_train == 0)))\n",
    "  \n",
    "# import SMOTE from imblearn library\n",
    "from imblearn.over_sampling import SMOTE\n",
    "sm = SMOTE(random_state = 10,k_neighbors=5)\n",
    "X_train_res, Y_train_res = sm.fit_resample(X_train, Y_train)\n",
    "  \n",
    "print('After OverSampling, the shape of train_X: ', (X_train_res.shape))\n",
    "print('After OverSampling, the shape of train_y: ', (Y_train_res.shape))\n",
    "  \n",
    "print(\"After OverSampling, counts of label '1': \", (sum(Y_train_res == 1)))\n",
    "print(\"After OverSampling, counts of label '0': \", (sum(Y_train_res == 0)))"
   ]
  },
  {
   "cell_type": "markdown",
   "id": "bf39d397-7e87-462f-b6ed-86024221b0d9",
   "metadata": {},
   "source": [
    "# MODEL BUILDING"
   ]
  },
  {
   "cell_type": "code",
   "execution_count": null,
   "id": "b3938e9c-b923-47da-805c-4e4cc99b4190",
   "metadata": {},
   "outputs": [],
   "source": []
  },
  {
   "cell_type": "code",
   "execution_count": null,
   "id": "42b2d460-5361-4103-982c-15fced3c813e",
   "metadata": {},
   "outputs": [],
   "source": []
  },
  {
   "cell_type": "markdown",
   "id": "a8dc536f-dd3f-4949-95d4-71781558689b",
   "metadata": {},
   "source": [
    "**LOGISTIC REGRESSION**"
   ]
  },
  {
   "cell_type": "code",
   "execution_count": 44,
   "id": "21efe133-d00b-4d1d-ab71-2d802c794dae",
   "metadata": {},
   "outputs": [
    {
     "name": "stdout",
     "output_type": "stream",
     "text": [
      "[0.0002187]\n",
      "[[ 6.49383078e-02  6.48948296e-04  3.84037329e-05  5.07493326e-04\n",
      "  -7.94645960e-02 -2.64904162e-04 -7.88846930e-07  8.56701289e-03\n",
      "   3.77243809e-03 -2.47405353e-04 -2.88977848e-04 -1.95749642e-02]]\n"
     ]
    }
   ],
   "source": [
    "from sklearn.linear_model import LogisticRegression\n",
    "# create a model\n",
    "classifier=LogisticRegression(random_state=10)\n",
    "\n",
    "# fitting training data to the model...........(input is X and Y)\n",
    "classifier.fit(X_train,Y_train)\n",
    "\n",
    "# output is equation of liner regression \n",
    "print(classifier.intercept_)   # intercept is beta-not\n",
    "print(classifier.coef_)     # coef is beta-1,beta-2"
   ]
  },
  {
   "cell_type": "code",
   "execution_count": 123,
   "id": "95622a08-9946-47ec-843a-44f0bf9be324",
   "metadata": {},
   "outputs": [
    {
     "name": "stdout",
     "output_type": "stream",
     "text": [
      "[('anaemia', 0.14014619743583628), ('diabetes', -0.480883474990492), ('high_blood_pressure', -0.2768624709040214), ('sex', -0.34083706226266114), ('smoking', -0.29595965856652223), ('DEATH_EVENT', 0.32526557401128203), ('age_Group_Encoded', 0.2101084751148429), ('creatinine_phosphokinase_Group_Encoded', 0.372279646018749), ('ejection_fraction_Group_Encoded', -0.13995173382128595), ('platelets_Group_Encoded', 0.08234657074516051), ('serum_creatinine_Group_Encoded', -0.6377785312989714), ('serum_sodium_Group_Encoded', -0.19675347371967608)]\n"
     ]
    }
   ],
   "source": [
    "# zipping to see kon se variable ka kya value aaya h\n",
    "print(list(zip(data.columns[0:-1],classifier.coef_.ravel())))"
   ]
  },
  {
   "cell_type": "code",
   "execution_count": 45,
   "id": "12f980ed-8834-46e3-9677-16742c0fe1f8",
   "metadata": {},
   "outputs": [
    {
     "name": "stdout",
     "output_type": "stream",
     "text": [
      "[1 0 1 0 0 0 0 0 0 0 0 1 0 0 0 1 1 0 0 0 0 0 0 0 1 0 0 0 1 0 1 0 1 0 0 0 0\n",
      " 0 0 0 0 0 0 0 0 0 1 1 1 1 1 0 0 0 0 0 0 1 1 1 0 0 0 0 0 0 0 1 0 0 0 1 0 0\n",
      " 0 0 0 0 1 0 1 1 0 1 1 1 0 0 1 1]\n"
     ]
    }
   ],
   "source": [
    "# input me sirf x hi dalta h\n",
    "Y_pred=classifier.predict(X_test)\n",
    "print(Y_pred)"
   ]
  },
  {
   "cell_type": "code",
   "execution_count": null,
   "id": "57f86797-5c9d-4edc-9909-591f93116580",
   "metadata": {},
   "outputs": [],
   "source": [
    "# checking ki predicted is matching with test or no \n",
    "print(list(zip(Y_test,Y_pred)))"
   ]
  },
  {
   "cell_type": "code",
   "execution_count": 46,
   "id": "f6944a47-29a6-497b-b8ed-3e6741a5308f",
   "metadata": {},
   "outputs": [
    {
     "name": "stdout",
     "output_type": "stream",
     "text": [
      "[[53  8]\n",
      " [10 19]]\n",
      "Classification report: \n",
      "              precision    recall  f1-score   support\n",
      "\n",
      "           0       0.84      0.87      0.85        61\n",
      "           1       0.70      0.66      0.68        29\n",
      "\n",
      "    accuracy                           0.80        90\n",
      "   macro avg       0.77      0.76      0.77        90\n",
      "weighted avg       0.80      0.80      0.80        90\n",
      "\n",
      "Accuracy of the model:  0.8\n"
     ]
    }
   ],
   "source": [
    "from sklearn.metrics import confusion_matrix, accuracy_score, classification_report\n",
    " \n",
    "# confusion matrix\n",
    "cfm=confusion_matrix(Y_test,Y_pred)\n",
    "print(cfm)\n",
    " \n",
    "print(\"Classification report: \")\n",
    " \n",
    "print(classification_report(Y_test,Y_pred))\n",
    "\n",
    "\n",
    "# accuracy_score\n",
    "acc=accuracy_score(Y_test, Y_pred)\n",
    "print(\"Accuracy of the model: \",acc)"
   ]
  },
  {
   "cell_type": "code",
   "execution_count": null,
   "id": "92f9d50f-eda7-4af1-96ba-29826320843e",
   "metadata": {},
   "outputs": [],
   "source": []
  },
  {
   "cell_type": "code",
   "execution_count": null,
   "id": "ea7a9753-63df-470f-b388-71de63748198",
   "metadata": {},
   "outputs": [],
   "source": []
  },
  {
   "cell_type": "markdown",
   "id": "762abf97-ef3f-4194-8d0c-e8e60ee7891c",
   "metadata": {},
   "source": [
    "**TUNNING LOGISTIC REGRESSION**"
   ]
  },
  {
   "cell_type": "code",
   "execution_count": 61,
   "id": "1022318a-e038-417b-b607-82ac99f45e4f",
   "metadata": {},
   "outputs": [
    {
     "name": "stdout",
     "output_type": "stream",
     "text": [
      "[[54  7]\n",
      " [11 18]]\n",
      "Classification report: \n",
      "              precision    recall  f1-score   support\n",
      "\n",
      "           0       0.83      0.89      0.86        61\n",
      "           1       0.72      0.62      0.67        29\n",
      "\n",
      "    accuracy                           0.80        90\n",
      "   macro avg       0.78      0.75      0.76        90\n",
      "weighted avg       0.80      0.80      0.80        90\n",
      "\n",
      "Accuracy of the model:  0.8\n"
     ]
    }
   ],
   "source": [
    "y_pred_prob = classifier.predict_proba(X_test)\n",
    "# print(y_pred_prob)\n",
    "\n",
    "\n",
    "y_pred_class = []\n",
    "for value in y_pred_prob[:,1]:\n",
    "    if value >0.55:                         # agar value 0.5 se jayada h to consider as 1\n",
    "        y_pred_class.append(1)\n",
    "    else:\n",
    "        y_pred_class.append(0)              # agar value 0.5 se kum h to consider as 0\n",
    "\n",
    "\n",
    "from sklearn.metrics import confusion_matrix, accuracy_score, classification_report\n",
    " \n",
    "# confusion matrix\n",
    "cfm=confusion_matrix(Y_test,y_pred_class)\n",
    "print(cfm)\n",
    " \n",
    "print(\"Classification report: \")\n",
    " \n",
    "print(classification_report(Y_test,y_pred_class))\n",
    "\n",
    "\n",
    "# accuracy_score\n",
    "acc=accuracy_score(Y_test, y_pred_class)\n",
    "print(\"Accuracy of the model: \",acc)\n"
   ]
  },
  {
   "cell_type": "code",
   "execution_count": null,
   "id": "d1e51707-702b-4eb2-b1eb-eb79ab8d2455",
   "metadata": {},
   "outputs": [],
   "source": []
  },
  {
   "cell_type": "code",
   "execution_count": null,
   "id": "46a01b52-f389-4413-abac-1fd8f4fe1e5e",
   "metadata": {},
   "outputs": [],
   "source": []
  },
  {
   "cell_type": "markdown",
   "id": "81e1abd9-c30b-4aea-bd08-ba5890419a67",
   "metadata": {},
   "source": [
    "**CHECKING FOR OPTIMUM THRESHOLD**"
   ]
  },
  {
   "cell_type": "code",
   "execution_count": 62,
   "id": "adc7941d-3325-42f4-bdca-3e4f8a96c246",
   "metadata": {},
   "outputs": [
    {
     "name": "stdout",
     "output_type": "stream",
     "text": [
      "Errors at threshold  0.4 : 20  , type 2 error : 10  , type 1 error: 10\n",
      "Errors at threshold  0.41000000000000003 : 20  , type 2 error : 10  , type 1 error: 10\n",
      "Errors at threshold  0.42000000000000004 : 20  , type 2 error : 10  , type 1 error: 10\n",
      "Errors at threshold  0.43000000000000005 : 20  , type 2 error : 10  , type 1 error: 10\n",
      "Errors at threshold  0.44000000000000006 : 19  , type 2 error : 10  , type 1 error: 9\n",
      "Errors at threshold  0.45000000000000007 : 19  , type 2 error : 10  , type 1 error: 9\n",
      "Errors at threshold  0.4600000000000001 : 18  , type 2 error : 10  , type 1 error: 8\n",
      "Errors at threshold  0.4700000000000001 : 18  , type 2 error : 10  , type 1 error: 8\n",
      "Errors at threshold  0.4800000000000001 : 18  , type 2 error : 10  , type 1 error: 8\n",
      "Errors at threshold  0.4900000000000001 : 18  , type 2 error : 10  , type 1 error: 8\n",
      "Errors at threshold  0.5000000000000001 : 18  , type 2 error : 10  , type 1 error: 8\n",
      "Errors at threshold  0.5100000000000001 : 18  , type 2 error : 10  , type 1 error: 8\n",
      "Errors at threshold  0.5200000000000001 : 19  , type 2 error : 11  , type 1 error: 8\n",
      "Errors at threshold  0.5300000000000001 : 19  , type 2 error : 11  , type 1 error: 8\n",
      "Errors at threshold  0.5400000000000001 : 19  , type 2 error : 11  , type 1 error: 8\n",
      "Errors at threshold  0.5500000000000002 : 18  , type 2 error : 11  , type 1 error: 7\n",
      "Errors at threshold  0.5600000000000002 : 18  , type 2 error : 11  , type 1 error: 7\n",
      "Errors at threshold  0.5700000000000002 : 18  , type 2 error : 11  , type 1 error: 7\n",
      "Errors at threshold  0.5800000000000002 : 20  , type 2 error : 13  , type 1 error: 7\n",
      "Errors at threshold  0.5900000000000002 : 20  , type 2 error : 13  , type 1 error: 7\n",
      "Errors at threshold  0.6000000000000002 : 19  , type 2 error : 13  , type 1 error: 6\n"
     ]
    }
   ],
   "source": [
    "# baar baar kon check krne baithega kon sa threshhold lu isliye direct method  for that\n",
    "\n",
    "for a in np.arange(0.4,0.61,0.01):   # range of 0.4 to 0.6 by difference of 0.01\n",
    "    predict_mine = np.where(y_pred_prob[:,1] > a, 1, 0)     # in the matrix of  y+pred_prob .where function is similar to if else agar true aaya to 1 lo false aaya to 0 lo\n",
    "    cfm=confusion_matrix(Y_test, predict_mine)\n",
    "    total_err=cfm[0,1]+cfm[1,0]\n",
    "    print(\"Errors at threshold \", a, \":\",total_err, \" , type 2 error :\", \n",
    "          cfm[1,0],\" , type 1 error:\", cfm[0,1])\n",
    "\n"
   ]
  },
  {
   "cell_type": "code",
   "execution_count": null,
   "id": "0bd12e82-4bb7-4b13-9113-d00ecdfc06e1",
   "metadata": {},
   "outputs": [],
   "source": []
  },
  {
   "cell_type": "code",
   "execution_count": null,
   "id": "7044de98-55d9-47ca-bd2b-aa8c5d8d7e07",
   "metadata": {},
   "outputs": [],
   "source": []
  },
  {
   "cell_type": "markdown",
   "id": "a2b27a26-421f-4e53-a894-16436c69fa77",
   "metadata": {},
   "source": [
    "**CHECKING GOODNESS OF MODEL**"
   ]
  },
  {
   "cell_type": "code",
   "execution_count": 63,
   "id": "10013cce-f78c-43b6-852d-dd2915a871b1",
   "metadata": {},
   "outputs": [
    {
     "name": "stdout",
     "output_type": "stream",
     "text": [
      "0.8501978518937252\n"
     ]
    },
    {
     "data": {
      "image/png": "[encoded data removed]",
      "text/plain": [
       "<Figure size 640x480 with 1 Axes>"
      ]
     },
     "metadata": {},
     "output_type": "display_data"
    }
   ],
   "source": [
    "from sklearn import metrics\n",
    " \n",
    "fpr, tpr, z = metrics.roc_curve(Y_test, y_pred_prob[:,1])    \n",
    "auc = metrics.auc(fpr,tpr)     # fpr = false positive rate ,# tpr = true positive rate\n",
    " \n",
    "print(auc)\n",
    "# auc = are under curve, jiska area jayada h vo aacha h\n",
    "# if auc = 0.5 (worst model)\n",
    "# if auc = 0.5 to 0.6 ( poor model)\n",
    "# if auc = 0.6 to 0.7 (bad model)\n",
    "# if auc = 0.7 to 0.8 (good model)\n",
    "# if auc = 0.8 to 0.9 (very.good model)\n",
    "# if auc = 0.9 to 1.0 (excellent model)\n",
    "# so, our model is very good model\n",
    "\n",
    "\n",
    "import matplotlib.pyplot as plt\n",
    "plt.title('Receiver Operating Characteristic')\n",
    "plt.plot(fpr,tpr, 'b', label = auc)   \n",
    "plt.legend(loc = 'lower right')\n",
    "plt.plot([0, 1], [0, 1],'r--')\n",
    "#plt.plot(fpr_new,tpr_new, 'green')\n",
    "plt.xlim([0, 1])\n",
    "plt.ylim([0, 1])\n",
    "plt.xlabel('False Positive Rate')\n",
    "plt.ylabel('True Positive Rate')\n",
    " \n",
    "plt.show()"
   ]
  },
  {
   "cell_type": "code",
   "execution_count": null,
   "id": "06e0140d-a6a3-49f4-a394-4933e4e234a6",
   "metadata": {},
   "outputs": [],
   "source": []
  },
  {
   "cell_type": "code",
   "execution_count": null,
   "id": "5de9128e-a874-4a3b-8557-4f4686dc3b0d",
   "metadata": {},
   "outputs": [],
   "source": []
  },
  {
   "cell_type": "markdown",
   "id": "4c08e47f-0cc1-4b91-a47e-9ed190abc5f0",
   "metadata": {},
   "source": [
    "**DECISION TREE**"
   ]
  },
  {
   "cell_type": "code",
   "execution_count": 64,
   "id": "b01f13e8-8129-49cd-825a-60ffce171352",
   "metadata": {},
   "outputs": [
    {
     "name": "stdout",
     "output_type": "stream",
     "text": [
      "[[54  7]\n",
      " [11 18]]\n",
      "0.8\n",
      "              precision    recall  f1-score   support\n",
      "\n",
      "           0       0.83      0.89      0.86        61\n",
      "           1       0.72      0.62      0.67        29\n",
      "\n",
      "    accuracy                           0.80        90\n",
      "   macro avg       0.78      0.75      0.76        90\n",
      "weighted avg       0.80      0.80      0.80        90\n",
      "\n"
     ]
    },
    {
     "data": {
      "text/plain": [
       "1.0"
      ]
     },
     "execution_count": 64,
     "metadata": {},
     "output_type": "execute_result"
    }
   ],
   "source": [
    "#predicting using the Decision_Tree_Classifier\n",
    "from sklearn.tree import DecisionTreeClassifier\n",
    "\n",
    "model_DT=DecisionTreeClassifier(random_state=10, \n",
    "                                         criterion=\"gini\")\n",
    "#min_samples_leaf, min_samples_split, max_depth, max_features, max_leaf_nodes\n",
    "\n",
    "#fit the model on the data and predict the values\n",
    "model_DT.fit(X_train_res,Y_train_res)\n",
    "Y_pred=model_DT.predict(X_test)\n",
    "#print(Y_pred)\n",
    "#print(list(zip(Y_test,Y_pred)))\n",
    "\n",
    "from sklearn.metrics import confusion_matrix, accuracy_score,classification_report\n",
    "#confusion matrix\n",
    "print(confusion_matrix(Y_test,Y_pred))\n",
    "print(accuracy_score(Y_test,Y_pred))\n",
    "print(classification_report(Y_test,Y_pred))\n",
    "\n",
    "model_DT.score(X_train,Y_train)"
   ]
  },
  {
   "cell_type": "code",
   "execution_count": null,
   "id": "032b4b0b-0a3d-40f6-a3a0-ab18f26a605f",
   "metadata": {},
   "outputs": [],
   "source": []
  },
  {
   "cell_type": "code",
   "execution_count": null,
   "id": "b194d1d1-c432-4f72-b09e-f8bbb401cae4",
   "metadata": {},
   "outputs": [],
   "source": []
  },
  {
   "cell_type": "code",
   "execution_count": 76,
   "id": "05cb3ffe-df5a-4039-9dca-be64f4f1dad8",
   "metadata": {},
   "outputs": [
    {
     "name": "stdout",
     "output_type": "stream",
     "text": [
      "[[51 10]\n",
      " [12 17]]\n",
      "0.7555555555555555\n",
      "              precision    recall  f1-score   support\n",
      "\n",
      "           0       0.81      0.84      0.82        61\n",
      "           1       0.63      0.59      0.61        29\n",
      "\n",
      "    accuracy                           0.76        90\n",
      "   macro avg       0.72      0.71      0.71        90\n",
      "weighted avg       0.75      0.76      0.75        90\n",
      "\n"
     ]
    }
   ],
   "source": [
    "from sklearn.tree import DecisionTreeClassifier\n",
    "\n",
    "model_DT=DecisionTreeClassifier(random_state=10, \n",
    "                                         criterion=\"gini\",\n",
    "                                         splitter=\"best\", \n",
    "                                         min_samples_leaf=3,\n",
    "                                         min_samples_split=5,\n",
    "                                         max_depth=10, \n",
    "                                        #max_leaf_nodes=100,\n",
    "                                         # max_features=0.6\n",
    "                                         )\n",
    "#min_samples_leaf, min_samples_split, max_depth, max_features, max_leaf_nodes\n",
    "\n",
    "#fit the model on the data and predict the values\n",
    "model_DT.fit(X_train,Y_train)\n",
    "\n",
    "test_pred=model_DT.predict(X_test)\n",
    "test_pred\n",
    "\n",
    "\n",
    "\n",
    "from sklearn.metrics import confusion_matrix, accuracy_score,classification_report\n",
    "#confusion matrix\n",
    "print(confusion_matrix(Y_test,Y_pred))\n",
    "print(accuracy_score(Y_test,Y_pred))\n",
    "print(classification_report(Y_test,Y_pred))"
   ]
  },
  {
   "cell_type": "code",
   "execution_count": null,
   "id": "76962fa0-7718-4bd1-9dd7-b64ef205f58d",
   "metadata": {},
   "outputs": [],
   "source": []
  },
  {
   "cell_type": "code",
   "execution_count": null,
   "id": "6866bf07-9710-4cde-9c57-99d27b9cf79b",
   "metadata": {},
   "outputs": [],
   "source": []
  },
  {
   "cell_type": "markdown",
   "id": "e07c8ba5-1be7-4bf0-bf5e-5f771519a205",
   "metadata": {},
   "source": [
    "**SVM**"
   ]
  },
  {
   "cell_type": "code",
   "execution_count": 20,
   "id": "8bc21f53-c172-46e8-9137-8f970be47788",
   "metadata": {},
   "outputs": [
    {
     "name": "stdout",
     "output_type": "stream",
     "text": [
      "[[61  0]\n",
      " [29  0]]\n",
      "0.6777777777777778\n",
      "              precision    recall  f1-score   support\n",
      "\n",
      "           0       0.68      1.00      0.81        61\n",
      "           1       0.00      0.00      0.00        29\n",
      "\n",
      "    accuracy                           0.68        90\n",
      "   macro avg       0.34      0.50      0.40        90\n",
      "weighted avg       0.46      0.68      0.55        90\n",
      "\n"
     ]
    }
   ],
   "source": [
    "from sklearn import svm\n",
    "model_SVC=svm.SVC(kernel=\"rbf\", gamma=0.1, C=1)\n",
    "#fitting training data to the model\n",
    "model_SVC.fit(X_train_res,Y_train_res)\n",
    "\n",
    "Y_pred=model_SVC.predict(X_test)\n",
    "#print(list(zip(Y_test,Y_pred)))\n",
    "\n",
    "\n",
    "from sklearn.metrics import confusion_matrix, accuracy_score,classification_report\n",
    "#confusion matrix\n",
    "print(confusion_matrix(Y_test,Y_pred))\n",
    "print(accuracy_score(Y_test,Y_pred))\n",
    "print(classification_report(Y_test,Y_pred))"
   ]
  },
  {
   "cell_type": "code",
   "execution_count": null,
   "id": "720a6f0f-9c9d-4546-ae1b-8a920b0caa70",
   "metadata": {},
   "outputs": [],
   "source": []
  },
  {
   "cell_type": "code",
   "execution_count": null,
   "id": "087855d4-a1b8-4329-8e1b-c66977702174",
   "metadata": {},
   "outputs": [],
   "source": []
  },
  {
   "cell_type": "markdown",
   "id": "4f54565f-8255-4d04-925c-8db103b9b001",
   "metadata": {},
   "source": [
    "**KNN**"
   ]
  },
  {
   "cell_type": "code",
   "execution_count": 21,
   "id": "26bf1536-0b17-4d49-8ce7-c90d696975f1",
   "metadata": {},
   "outputs": [],
   "source": [
    "import numpy as np\n",
    "from sklearn.neighbors import KNeighborsClassifier\n",
    "model_KNN=KNeighborsClassifier(n_neighbors=33, \n",
    "                               metric='euclidean')\n",
    "#fit the model on the data and predict the values\n",
    "model_KNN.fit(X_train,Y_train)\n",
    "\n",
    "Y_pred=model_KNN.predict(X_test)\n",
    "#print(list(zip(Y_test,Y_pred)))"
   ]
  },
  {
   "cell_type": "code",
   "execution_count": 22,
   "id": "be5d3e0b-0438-4bcc-8ca4-81245ec1726f",
   "metadata": {},
   "outputs": [
    {
     "data": {
      "text/plain": [
       "14"
      ]
     },
     "execution_count": 22,
     "metadata": {},
     "output_type": "execute_result"
    }
   ],
   "source": [
    "int(np.sqrt(len(X_train)))"
   ]
  },
  {
   "cell_type": "code",
   "execution_count": 23,
   "id": "c4006fa9-97c5-4562-b26c-f954875762de",
   "metadata": {},
   "outputs": [
    {
     "name": "stdout",
     "output_type": "stream",
     "text": [
      "[[61  0]\n",
      " [29  0]]\n",
      "0.6777777777777778\n",
      "              precision    recall  f1-score   support\n",
      "\n",
      "           0       0.68      1.00      0.81        61\n",
      "           1       0.00      0.00      0.00        29\n",
      "\n",
      "    accuracy                           0.68        90\n",
      "   macro avg       0.34      0.50      0.40        90\n",
      "weighted avg       0.46      0.68      0.55        90\n",
      "\n"
     ]
    }
   ],
   "source": [
    "from sklearn.metrics import confusion_matrix, accuracy_score,classification_report\n",
    "#confusion matrix\n",
    "print(confusion_matrix(Y_test,Y_pred))\n",
    "print(accuracy_score(Y_test,Y_pred))\n",
    "print(classification_report(Y_test,Y_pred))"
   ]
  },
  {
   "cell_type": "code",
   "execution_count": null,
   "id": "b83c5d3d-9638-4e28-b9de-3a879924a99f",
   "metadata": {},
   "outputs": [],
   "source": []
  },
  {
   "cell_type": "code",
   "execution_count": null,
   "id": "f49f665b-897c-4b46-9940-aa6f842f9c6c",
   "metadata": {},
   "outputs": [],
   "source": []
  },
  {
   "cell_type": "markdown",
   "id": "857308ae-362d-4236-a69c-e9689ec3eb47",
   "metadata": {},
   "source": [
    "**XG BOOST**"
   ]
  },
  {
   "cell_type": "code",
   "execution_count": 25,
   "id": "768700bb-1d3b-4cc2-a6d4-2a8d55309f76",
   "metadata": {},
   "outputs": [
    {
     "name": "stdout",
     "output_type": "stream",
     "text": [
      "[[57  4]\n",
      " [ 6 23]]\n",
      "              precision    recall  f1-score   support\n",
      "\n",
      "           0       0.90      0.93      0.92        61\n",
      "           1       0.85      0.79      0.82        29\n",
      "\n",
      "    accuracy                           0.89        90\n",
      "   macro avg       0.88      0.86      0.87        90\n",
      "weighted avg       0.89      0.89      0.89        90\n",
      "\n",
      "0.8888888888888888\n"
     ]
    }
   ],
   "source": [
    "from xgboost import XGBClassifier\n",
    "\n",
    "model_GradientBoosting=XGBClassifier(n_estimators=100,random_state=10)\n",
    "\n",
    "#fit the model on the data and predict the values\n",
    "model_GradientBoosting.fit(X_train,Y_train)\n",
    "\n",
    "Y_pred=model_GradientBoosting.predict(X_test)\n",
    "\n",
    "\n",
    "from sklearn.metrics import confusion_matrix, accuracy_score,classification_report\n",
    "#confusion matrix\n",
    "print(confusion_matrix(Y_test,Y_pred))\n",
    "print(classification_report(Y_test,Y_pred))\n",
    "print(accuracy_score(Y_test,Y_pred))"
   ]
  },
  {
   "cell_type": "code",
   "execution_count": null,
   "id": "cba2624c-8dd4-408e-ad27-debeb45d2801",
   "metadata": {},
   "outputs": [],
   "source": []
  },
  {
   "cell_type": "code",
   "execution_count": null,
   "id": "04979bc1-e789-4aef-b59c-281b80c42110",
   "metadata": {},
   "outputs": [],
   "source": []
  },
  {
   "cell_type": "markdown",
   "id": "5dc13b33-1fbc-4066-b555-4fb1d32eeca9",
   "metadata": {},
   "source": [
    "# COMBINING MULTIPLE MODELS"
   ]
  },
  {
   "cell_type": "code",
   "execution_count": null,
   "id": "1740303c-8a71-4ab6-8708-04eaa85fcab2",
   "metadata": {},
   "outputs": [],
   "source": []
  },
  {
   "cell_type": "code",
   "execution_count": 104,
   "id": "38aed685-3d10-4b23-80c9-9f42197dda57",
   "metadata": {},
   "outputs": [],
   "source": [
    "from sklearn.tree import DecisionTreeClassifier\n",
    "from sklearn.svm import SVC\n",
    "from sklearn.neighbors import KNeighborsClassifier\n",
    "from sklearn.linear_model import LogisticRegression\n",
    "\n",
    "# first, initialize the classificators\n",
    "tree= DecisionTreeClassifier(random_state=10) # using the random state for reproducibility\n",
    "knn= KNeighborsClassifier(n_neighbors=5,metric='euclidean')\n",
    "svm= SVC(kernel=\"rbf\", gamma=0.1, C=90,random_state=10)\n",
    "logreg=LogisticRegression(multi_class=\"multinomial\",random_state=10)"
   ]
  },
  {
   "cell_type": "code",
   "execution_count": 105,
   "id": "bcfc6984-4d01-4432-8347-052d4f9e1dfc",
   "metadata": {},
   "outputs": [],
   "source": [
    "# now, create a list with the objects \n",
    "models= [tree, knn, svm, logreg]"
   ]
  },
  {
   "cell_type": "code",
   "execution_count": 106,
   "id": "0cab6734-7073-48e6-a83b-af4046291dbd",
   "metadata": {},
   "outputs": [
    {
     "name": "stdout",
     "output_type": "stream",
     "text": [
      "[[51 10]\n",
      " [10 19]]\n",
      "The accuracy of the  DecisionTreeClassifier  model is  77.77777777777779\n",
      "Classification report:\n",
      "               precision    recall  f1-score   support\n",
      "\n",
      "           0       0.84      0.84      0.84        61\n",
      "           1       0.66      0.66      0.66        29\n",
      "\n",
      "    accuracy                           0.78        90\n",
      "   macro avg       0.75      0.75      0.75        90\n",
      "weighted avg       0.78      0.78      0.78        90\n",
      "\n",
      "\n",
      "\n",
      "[[45 16]\n",
      " [14 15]]\n",
      "The accuracy of the  KNeighborsClassifier  model is  66.66666666666666\n",
      "Classification report:\n",
      "               precision    recall  f1-score   support\n",
      "\n",
      "           0       0.76      0.74      0.75        61\n",
      "           1       0.48      0.52      0.50        29\n",
      "\n",
      "    accuracy                           0.67        90\n",
      "   macro avg       0.62      0.63      0.62        90\n",
      "weighted avg       0.67      0.67      0.67        90\n",
      "\n",
      "\n",
      "\n",
      "[[47 14]\n",
      " [15 14]]\n",
      "The accuracy of the  SVC  model is  67.77777777777779\n",
      "Classification report:\n",
      "               precision    recall  f1-score   support\n",
      "\n",
      "           0       0.76      0.77      0.76        61\n",
      "           1       0.50      0.48      0.49        29\n",
      "\n",
      "    accuracy                           0.68        90\n",
      "   macro avg       0.63      0.63      0.63        90\n",
      "weighted avg       0.67      0.68      0.68        90\n",
      "\n",
      "\n",
      "\n",
      "[[45 16]\n",
      " [16 13]]\n",
      "The accuracy of the  LogisticRegression  model is  64.44444444444444\n",
      "Classification report:\n",
      "               precision    recall  f1-score   support\n",
      "\n",
      "           0       0.74      0.74      0.74        61\n",
      "           1       0.45      0.45      0.45        29\n",
      "\n",
      "    accuracy                           0.64        90\n",
      "   macro avg       0.59      0.59      0.59        90\n",
      "weighted avg       0.64      0.64      0.64        90\n",
      "\n",
      "\n",
      "\n"
     ]
    }
   ],
   "source": [
    "from sklearn.metrics import confusion_matrix, accuracy_score,classification_report\n",
    "\n",
    "for model in models:\n",
    "    model.fit(X_train_res, Y_train_res) # fit the model\n",
    "    Y_pred= model.predict(X_test) # then predict on the test set\n",
    "    accuracy= accuracy_score(Y_test, Y_pred) \n",
    "    clf_report= classification_report(Y_test, Y_pred) \n",
    "    print(confusion_matrix(Y_test,Y_pred))\n",
    "    print(\"The accuracy of the \",type(model).__name__, \" model is \", accuracy*100 )\n",
    "    print(\"Classification report:\\n\", clf_report)\n",
    "    print(\"\\n\")"
   ]
  },
  {
   "cell_type": "code",
   "execution_count": null,
   "id": "5c3395cc-86fe-4fad-8f5a-689cecb3531b",
   "metadata": {},
   "outputs": [],
   "source": []
  },
  {
   "cell_type": "code",
   "execution_count": null,
   "id": "261dd389-6ad0-4050-b29c-439fe50bb6d1",
   "metadata": {},
   "outputs": [],
   "source": []
  },
  {
   "cell_type": "markdown",
   "id": "931dba7e-43b6-4d4c-ac24-5e741d171547",
   "metadata": {},
   "source": [
    "# CONCLUSION"
   ]
  },
  {
   "cell_type": "markdown",
   "id": "1c728160-b6c6-402b-bd99-9d48203d4dac",
   "metadata": {},
   "source": [
    "--> Here my class of importance is class 0 :  \n",
    "\n",
    "--> so, boosted decision tree gives the highest accuracy on this dataset\n",
    "\n",
    "--> It give 92% accuracy on class 0 and 85% accuracy on class 1.  \n",
    "--> Over all accuracy of model is 88.88%  \n",
    "\n",
    "--> Which is highest amongs all the other models.  \n"
   ]
  },
  {
   "cell_type": "code",
   "execution_count": null,
   "id": "1584a139-1334-49c4-868b-e40545656a54",
   "metadata": {},
   "outputs": [],
   "source": []
  },
  {
   "cell_type": "code",
   "execution_count": null,
   "id": "a843d69b-3f3e-44f4-9905-4826b264c38b",
   "metadata": {},
   "outputs": [],
   "source": []
  },
  {
   "cell_type": "markdown",
   "id": "820da113-1346-4ec8-ae46-55ed15d200f3",
   "metadata": {},
   "source": [
    "Grouping Data Points:\n",
    "\n",
    "Here i am trying to group all the numerical variables such that it concise into few categories.  \n",
    "Lets see by grouping the data points will increase accurcay or not?"
   ]
  },
  {
   "cell_type": "code",
   "execution_count": null,
   "id": "c20512db-5cfc-4569-ad9c-55282ffb67b7",
   "metadata": {},
   "outputs": [],
   "source": []
  },
  {
   "cell_type": "code",
   "execution_count": null,
   "id": "05a359ab-52c4-4c89-a516-ac13cd12a0c4",
   "metadata": {},
   "outputs": [],
   "source": []
  },
  {
   "cell_type": "markdown",
   "id": "9657e841-df2f-4913-9b65-d713e827cfb2",
   "metadata": {},
   "source": [
    "# IMPORTING LIBRARY"
   ]
  },
  {
   "cell_type": "code",
   "execution_count": 87,
   "id": "5ddfc586-26ad-44d8-a230-181f4ca4f6d0",
   "metadata": {},
   "outputs": [],
   "source": [
    "import numpy as np\n",
    "import pandas as pd\n",
    "import seaborn as sns\n",
    "import warnings\n",
    "warnings.filterwarnings(\"ignore\")"
   ]
  },
  {
   "cell_type": "code",
   "execution_count": null,
   "id": "c1db554c-8146-4e77-be65-1891480bbbbc",
   "metadata": {},
   "outputs": [],
   "source": []
  },
  {
   "cell_type": "code",
   "execution_count": null,
   "id": "0856c37d-c504-4ea9-8d1a-458de31ca44c",
   "metadata": {},
   "outputs": [],
   "source": []
  },
  {
   "cell_type": "markdown",
   "id": "3ff7d048-bf21-489f-a5e0-ca724b2e0fa4",
   "metadata": {},
   "source": [
    "# READ DATA SET"
   ]
  },
  {
   "cell_type": "code",
   "execution_count": 107,
   "id": "213f6c19-60cc-405c-9fbe-2285b7871f42",
   "metadata": {},
   "outputs": [
    {
     "data": {
      "text/html": [
       "<div>\n",
       "<style scoped>\n",
       "    .dataframe tbody tr th:only-of-type {\n",
       "        vertical-align: middle;\n",
       "    }\n",
       "\n",
       "    .dataframe tbody tr th {\n",
       "        vertical-align: top;\n",
       "    }\n",
       "\n",
       "    .dataframe thead th {\n",
       "        text-align: right;\n",
       "    }\n",
       "</style>\n",
       "<table border=\"1\" class=\"dataframe\">\n",
       "  <thead>\n",
       "    <tr style=\"text-align: right;\">\n",
       "      <th></th>\n",
       "      <th>age</th>\n",
       "      <th>anaemia</th>\n",
       "      <th>creatinine_phosphokinase</th>\n",
       "      <th>diabetes</th>\n",
       "      <th>ejection_fraction</th>\n",
       "      <th>high_blood_pressure</th>\n",
       "      <th>platelets</th>\n",
       "      <th>serum_creatinine</th>\n",
       "      <th>serum_sodium</th>\n",
       "      <th>sex</th>\n",
       "      <th>smoking</th>\n",
       "      <th>time</th>\n",
       "      <th>DEATH_EVENT</th>\n",
       "    </tr>\n",
       "  </thead>\n",
       "  <tbody>\n",
       "    <tr>\n",
       "      <th>0</th>\n",
       "      <td>75.0</td>\n",
       "      <td>0</td>\n",
       "      <td>582</td>\n",
       "      <td>0</td>\n",
       "      <td>20</td>\n",
       "      <td>1</td>\n",
       "      <td>265000.00</td>\n",
       "      <td>1.9</td>\n",
       "      <td>130</td>\n",
       "      <td>1</td>\n",
       "      <td>0</td>\n",
       "      <td>4</td>\n",
       "      <td>1</td>\n",
       "    </tr>\n",
       "    <tr>\n",
       "      <th>1</th>\n",
       "      <td>55.0</td>\n",
       "      <td>0</td>\n",
       "      <td>7861</td>\n",
       "      <td>0</td>\n",
       "      <td>38</td>\n",
       "      <td>0</td>\n",
       "      <td>263358.03</td>\n",
       "      <td>1.1</td>\n",
       "      <td>136</td>\n",
       "      <td>1</td>\n",
       "      <td>0</td>\n",
       "      <td>6</td>\n",
       "      <td>1</td>\n",
       "    </tr>\n",
       "    <tr>\n",
       "      <th>2</th>\n",
       "      <td>65.0</td>\n",
       "      <td>0</td>\n",
       "      <td>146</td>\n",
       "      <td>0</td>\n",
       "      <td>20</td>\n",
       "      <td>0</td>\n",
       "      <td>162000.00</td>\n",
       "      <td>1.3</td>\n",
       "      <td>129</td>\n",
       "      <td>1</td>\n",
       "      <td>1</td>\n",
       "      <td>7</td>\n",
       "      <td>1</td>\n",
       "    </tr>\n",
       "    <tr>\n",
       "      <th>3</th>\n",
       "      <td>50.0</td>\n",
       "      <td>1</td>\n",
       "      <td>111</td>\n",
       "      <td>0</td>\n",
       "      <td>20</td>\n",
       "      <td>0</td>\n",
       "      <td>210000.00</td>\n",
       "      <td>1.9</td>\n",
       "      <td>137</td>\n",
       "      <td>1</td>\n",
       "      <td>0</td>\n",
       "      <td>7</td>\n",
       "      <td>1</td>\n",
       "    </tr>\n",
       "    <tr>\n",
       "      <th>4</th>\n",
       "      <td>65.0</td>\n",
       "      <td>1</td>\n",
       "      <td>160</td>\n",
       "      <td>1</td>\n",
       "      <td>20</td>\n",
       "      <td>0</td>\n",
       "      <td>327000.00</td>\n",
       "      <td>2.7</td>\n",
       "      <td>116</td>\n",
       "      <td>0</td>\n",
       "      <td>0</td>\n",
       "      <td>8</td>\n",
       "      <td>1</td>\n",
       "    </tr>\n",
       "  </tbody>\n",
       "</table>\n",
       "</div>"
      ],
      "text/plain": [
       "    age  anaemia  creatinine_phosphokinase  diabetes  ejection_fraction  \\\n",
       "0  75.0        0                       582         0                 20   \n",
       "1  55.0        0                      7861         0                 38   \n",
       "2  65.0        0                       146         0                 20   \n",
       "3  50.0        1                       111         0                 20   \n",
       "4  65.0        1                       160         1                 20   \n",
       "\n",
       "   high_blood_pressure  platelets  serum_creatinine  serum_sodium  sex  \\\n",
       "0                    1  265000.00               1.9           130    1   \n",
       "1                    0  263358.03               1.1           136    1   \n",
       "2                    0  162000.00               1.3           129    1   \n",
       "3                    0  210000.00               1.9           137    1   \n",
       "4                    0  327000.00               2.7           116    0   \n",
       "\n",
       "   smoking  time  DEATH_EVENT  \n",
       "0        0     4            1  \n",
       "1        0     6            1  \n",
       "2        1     7            1  \n",
       "3        0     7            1  \n",
       "4        0     8            1  "
      ]
     },
     "execution_count": 107,
     "metadata": {},
     "output_type": "execute_result"
    }
   ],
   "source": [
    "data = pd.read_table(r\"C:\\Users\\Pragya\\Downloads\\heart+failure+clinical+records\\heart_failure_clinical_records_dataset.csv\",delimiter=\",\")\n",
    "data.head()"
   ]
  },
  {
   "cell_type": "code",
   "execution_count": null,
   "id": "1c683a77-c273-4d72-a730-36b6c063ed15",
   "metadata": {},
   "outputs": [],
   "source": []
  },
  {
   "cell_type": "code",
   "execution_count": null,
   "id": "5ae4cb80-95fc-4589-af55-aab4cf3cfc2b",
   "metadata": {},
   "outputs": [],
   "source": []
  },
  {
   "cell_type": "markdown",
   "id": "0872bb44-8017-43cd-9ca7-dcdc618c5c1d",
   "metadata": {},
   "source": [
    "# GROUPING DATA SET"
   ]
  },
  {
   "cell_type": "code",
   "execution_count": 108,
   "id": "c692744b-8d1d-4135-a9d0-bd87f6115612",
   "metadata": {},
   "outputs": [
    {
     "data": {
      "text/html": [
       "<div>\n",
       "<style scoped>\n",
       "    .dataframe tbody tr th:only-of-type {\n",
       "        vertical-align: middle;\n",
       "    }\n",
       "\n",
       "    .dataframe tbody tr th {\n",
       "        vertical-align: top;\n",
       "    }\n",
       "\n",
       "    .dataframe thead th {\n",
       "        text-align: right;\n",
       "    }\n",
       "</style>\n",
       "<table border=\"1\" class=\"dataframe\">\n",
       "  <thead>\n",
       "    <tr style=\"text-align: right;\">\n",
       "      <th></th>\n",
       "      <th>age</th>\n",
       "      <th>anaemia</th>\n",
       "      <th>creatinine_phosphokinase</th>\n",
       "      <th>diabetes</th>\n",
       "      <th>ejection_fraction</th>\n",
       "      <th>high_blood_pressure</th>\n",
       "      <th>platelets</th>\n",
       "      <th>serum_creatinine</th>\n",
       "      <th>serum_sodium</th>\n",
       "      <th>sex</th>\n",
       "      <th>...</th>\n",
       "      <th>serum_creatinine_Group</th>\n",
       "      <th>serum_sodium_Group</th>\n",
       "      <th>time_Group</th>\n",
       "      <th>age_Group_Encoded</th>\n",
       "      <th>creatinine_phosphokinase_Group_Encoded</th>\n",
       "      <th>ejection_fraction_Group_Encoded</th>\n",
       "      <th>platelets_Group_Encoded</th>\n",
       "      <th>serum_creatinine_Group_Encoded</th>\n",
       "      <th>serum_sodium_Group_Encoded</th>\n",
       "      <th>time_Group_Encoded</th>\n",
       "    </tr>\n",
       "  </thead>\n",
       "  <tbody>\n",
       "    <tr>\n",
       "      <th>0</th>\n",
       "      <td>75.0</td>\n",
       "      <td>0</td>\n",
       "      <td>582</td>\n",
       "      <td>0</td>\n",
       "      <td>20</td>\n",
       "      <td>1</td>\n",
       "      <td>265000.00</td>\n",
       "      <td>1.9</td>\n",
       "      <td>130</td>\n",
       "      <td>1</td>\n",
       "      <td>...</td>\n",
       "      <td>High</td>\n",
       "      <td>Low</td>\n",
       "      <td>Short</td>\n",
       "      <td>2</td>\n",
       "      <td>2</td>\n",
       "      <td>2</td>\n",
       "      <td>3</td>\n",
       "      <td>0</td>\n",
       "      <td>1</td>\n",
       "      <td>2</td>\n",
       "    </tr>\n",
       "    <tr>\n",
       "      <th>1</th>\n",
       "      <td>55.0</td>\n",
       "      <td>0</td>\n",
       "      <td>7861</td>\n",
       "      <td>0</td>\n",
       "      <td>38</td>\n",
       "      <td>0</td>\n",
       "      <td>263358.03</td>\n",
       "      <td>1.1</td>\n",
       "      <td>136</td>\n",
       "      <td>1</td>\n",
       "      <td>...</td>\n",
       "      <td>High</td>\n",
       "      <td>Normal</td>\n",
       "      <td>Short</td>\n",
       "      <td>1</td>\n",
       "      <td>3</td>\n",
       "      <td>0</td>\n",
       "      <td>3</td>\n",
       "      <td>0</td>\n",
       "      <td>2</td>\n",
       "      <td>2</td>\n",
       "    </tr>\n",
       "    <tr>\n",
       "      <th>2</th>\n",
       "      <td>65.0</td>\n",
       "      <td>0</td>\n",
       "      <td>146</td>\n",
       "      <td>0</td>\n",
       "      <td>20</td>\n",
       "      <td>0</td>\n",
       "      <td>162000.00</td>\n",
       "      <td>1.3</td>\n",
       "      <td>129</td>\n",
       "      <td>1</td>\n",
       "      <td>...</td>\n",
       "      <td>High</td>\n",
       "      <td>Low</td>\n",
       "      <td>Short</td>\n",
       "      <td>2</td>\n",
       "      <td>1</td>\n",
       "      <td>2</td>\n",
       "      <td>2</td>\n",
       "      <td>0</td>\n",
       "      <td>1</td>\n",
       "      <td>2</td>\n",
       "    </tr>\n",
       "    <tr>\n",
       "      <th>3</th>\n",
       "      <td>50.0</td>\n",
       "      <td>1</td>\n",
       "      <td>111</td>\n",
       "      <td>0</td>\n",
       "      <td>20</td>\n",
       "      <td>0</td>\n",
       "      <td>210000.00</td>\n",
       "      <td>1.9</td>\n",
       "      <td>137</td>\n",
       "      <td>1</td>\n",
       "      <td>...</td>\n",
       "      <td>High</td>\n",
       "      <td>Normal</td>\n",
       "      <td>Short</td>\n",
       "      <td>1</td>\n",
       "      <td>1</td>\n",
       "      <td>2</td>\n",
       "      <td>2</td>\n",
       "      <td>0</td>\n",
       "      <td>2</td>\n",
       "      <td>2</td>\n",
       "    </tr>\n",
       "    <tr>\n",
       "      <th>4</th>\n",
       "      <td>65.0</td>\n",
       "      <td>1</td>\n",
       "      <td>160</td>\n",
       "      <td>1</td>\n",
       "      <td>20</td>\n",
       "      <td>0</td>\n",
       "      <td>327000.00</td>\n",
       "      <td>2.7</td>\n",
       "      <td>116</td>\n",
       "      <td>0</td>\n",
       "      <td>...</td>\n",
       "      <td>Very High</td>\n",
       "      <td>Low</td>\n",
       "      <td>Short</td>\n",
       "      <td>2</td>\n",
       "      <td>1</td>\n",
       "      <td>2</td>\n",
       "      <td>3</td>\n",
       "      <td>2</td>\n",
       "      <td>1</td>\n",
       "      <td>2</td>\n",
       "    </tr>\n",
       "  </tbody>\n",
       "</table>\n",
       "<p>5 rows × 27 columns</p>\n",
       "</div>"
      ],
      "text/plain": [
       "    age  anaemia  creatinine_phosphokinase  diabetes  ejection_fraction  \\\n",
       "0  75.0        0                       582         0                 20   \n",
       "1  55.0        0                      7861         0                 38   \n",
       "2  65.0        0                       146         0                 20   \n",
       "3  50.0        1                       111         0                 20   \n",
       "4  65.0        1                       160         1                 20   \n",
       "\n",
       "   high_blood_pressure  platelets  serum_creatinine  serum_sodium  sex  ...  \\\n",
       "0                    1  265000.00               1.9           130    1  ...   \n",
       "1                    0  263358.03               1.1           136    1  ...   \n",
       "2                    0  162000.00               1.3           129    1  ...   \n",
       "3                    0  210000.00               1.9           137    1  ...   \n",
       "4                    0  327000.00               2.7           116    0  ...   \n",
       "\n",
       "   serum_creatinine_Group  serum_sodium_Group  time_Group age_Group_Encoded  \\\n",
       "0                    High                 Low       Short                 2   \n",
       "1                    High              Normal       Short                 1   \n",
       "2                    High                 Low       Short                 2   \n",
       "3                    High              Normal       Short                 1   \n",
       "4               Very High                 Low       Short                 2   \n",
       "\n",
       "  creatinine_phosphokinase_Group_Encoded ejection_fraction_Group_Encoded  \\\n",
       "0                                      2                               2   \n",
       "1                                      3                               0   \n",
       "2                                      1                               2   \n",
       "3                                      1                               2   \n",
       "4                                      1                               2   \n",
       "\n",
       "  platelets_Group_Encoded serum_creatinine_Group_Encoded  \\\n",
       "0                       3                              0   \n",
       "1                       3                              0   \n",
       "2                       2                              0   \n",
       "3                       2                              0   \n",
       "4                       3                              2   \n",
       "\n",
       "  serum_sodium_Group_Encoded time_Group_Encoded  \n",
       "0                          1                  2  \n",
       "1                          2                  2  \n",
       "2                          1                  2  \n",
       "3                          2                  2  \n",
       "4                          1                  2  \n",
       "\n",
       "[5 rows x 27 columns]"
      ]
     },
     "execution_count": 108,
     "metadata": {},
     "output_type": "execute_result"
    }
   ],
   "source": [
    "import pandas as pd\n",
    "from sklearn.preprocessing import LabelEncoder\n",
    "\n",
    "# Define bins and labels for each numerical variable\n",
    "grouping_rules = {\n",
    "    \"age\": ([0, 40, 60, 80, 100], [\"0-40\", \"41-60\", \"61-80\", \"81-100\"]),\n",
    "    \"creatinine_phosphokinase\": ([0, 200, 1000, 5000, 8000], [\"Low\", \"Moderate\", \"High\", \"Very High\"]),\n",
    "    \"ejection_fraction\": ([10, 30, 40, 50, 80], [\"Low\", \"Below Normal\", \"Normal\", \"High\"]),\n",
    "    \"platelets\": ([0, 150000, 250000, 350000, 500000], [\"Low\", \"Normal\", \"Slightly High\", \"High\"]),\n",
    "    \"serum_creatinine\": ([0, 1, 2, 5], [\"Normal\", \"High\", \"Very High\"]),\n",
    "    \"serum_sodium\": ([100, 130, 135, 145, 160], [\"Low\", \"Slightly Low\", \"Normal\", \"High\"]),\n",
    "    \"time\": ([0, 50, 100, 150, 300], [\"Short\", \"Medium\", \"Long\", \"Very Long\"]),\n",
    "}\n",
    "\n",
    "# Apply grouping to each variable\n",
    "for var, (bins, labels) in grouping_rules.items():\n",
    "    data[f\"{var}_Group\"] = pd.cut(data[var], bins=bins, labels=labels)\n",
    "\n",
    "# Apply Label Encoding to all newly created groups\n",
    "encoder = LabelEncoder()\n",
    "for var in grouping_rules.keys():\n",
    "    data[f\"{var}_Group_Encoded\"] = encoder.fit_transform(data[f\"{var}_Group\"])\n",
    "\n",
    "# Display first few rows with grouped variables\n",
    "data.head()\n"
   ]
  },
  {
   "cell_type": "code",
   "execution_count": null,
   "id": "2c18a22a-de31-4678-b6f2-e236291602a1",
   "metadata": {},
   "outputs": [],
   "source": []
  },
  {
   "cell_type": "code",
   "execution_count": null,
   "id": "8582fb30-c3ad-4381-838e-30d07253fa3f",
   "metadata": {},
   "outputs": [],
   "source": []
  },
  {
   "cell_type": "markdown",
   "id": "7487ae96-0fd6-4cf4-a8d3-356217c0b62d",
   "metadata": {},
   "source": [
    "# DROPING VARIABLES"
   ]
  },
  {
   "cell_type": "code",
   "execution_count": 109,
   "id": "0b1a22ee-4da7-46ea-a64d-e4ea1a64d92a",
   "metadata": {},
   "outputs": [],
   "source": [
    "data.drop(['age', 'creatinine_phosphokinase',\n",
    "       'ejection_fraction', 'platelets',\n",
    "       'serum_creatinine', 'serum_sodium', 'time',\n",
    "       'age_Group', 'creatinine_phosphokinase_Group',\n",
    "       'ejection_fraction_Group', 'platelets_Group', 'serum_creatinine_Group',\n",
    "       'serum_sodium_Group', 'time_Group'],axis=1,inplace=True)"
   ]
  },
  {
   "cell_type": "markdown",
   "id": "37e486f5-8a12-4386-beb8-304c3aafa446",
   "metadata": {},
   "source": [
    "I AM DROPPING VARIABLES BECAUSE IT CREATE NEW GROUPED VARIABLE  \n",
    "SO THAT I AM DROPPING THE ORIGINAL VARIABLE BECAUSE ONCE I GET THE GROUPED NO NEED TO KEEP THE ORIGINAL ONE.  \n",
    "THATS WHY I AM DROPPING IT."
   ]
  },
  {
   "cell_type": "code",
   "execution_count": null,
   "id": "7bf4c819-bd2f-45d8-b8e5-1fff3fe1c46c",
   "metadata": {},
   "outputs": [],
   "source": []
  },
  {
   "cell_type": "code",
   "execution_count": null,
   "id": "424b21a5-f866-4217-927d-bbc9e13e6a4e",
   "metadata": {},
   "outputs": [],
   "source": []
  },
  {
   "cell_type": "markdown",
   "id": "b7e984ce-b0af-46ca-80b0-c2e4fb044ef6",
   "metadata": {},
   "source": [
    "# CROSS CHECKING THE SHAPE OF VARIABLE"
   ]
  },
  {
   "cell_type": "code",
   "execution_count": 92,
   "id": "dacd05cf-4985-4b48-badf-2e4933771cc5",
   "metadata": {},
   "outputs": [
    {
     "data": {
      "text/plain": [
       "(299, 13)"
      ]
     },
     "execution_count": 92,
     "metadata": {},
     "output_type": "execute_result"
    }
   ],
   "source": [
    "data.shape"
   ]
  },
  {
   "cell_type": "code",
   "execution_count": 93,
   "id": "a8c3c2e9-716c-43b9-b150-e89d3793d980",
   "metadata": {},
   "outputs": [
    {
     "data": {
      "text/plain": [
       "Index(['anaemia', 'diabetes', 'high_blood_pressure', 'sex', 'smoking',\n",
       "       'DEATH_EVENT', 'age_Group_Encoded',\n",
       "       'creatinine_phosphokinase_Group_Encoded',\n",
       "       'ejection_fraction_Group_Encoded', 'platelets_Group_Encoded',\n",
       "       'serum_creatinine_Group_Encoded', 'serum_sodium_Group_Encoded',\n",
       "       'time_Group_Encoded'],\n",
       "      dtype='object')"
      ]
     },
     "execution_count": 93,
     "metadata": {},
     "output_type": "execute_result"
    }
   ],
   "source": [
    "data.columns"
   ]
  },
  {
   "cell_type": "code",
   "execution_count": null,
   "id": "b9e8edc6-fc86-450f-bbc6-4f2d10fc4660",
   "metadata": {},
   "outputs": [],
   "source": []
  },
  {
   "cell_type": "code",
   "execution_count": null,
   "id": "99dfc415-8b0f-46a2-a271-f004b11f3051",
   "metadata": {},
   "outputs": [],
   "source": []
  },
  {
   "cell_type": "markdown",
   "id": "d8848ab5-c7f9-4bce-9009-630d04688034",
   "metadata": {},
   "source": [
    "# CREATING X AND Y"
   ]
  },
  {
   "cell_type": "code",
   "execution_count": 110,
   "id": "83b24f0f-41d7-46a6-856f-3fd7b3b470b4",
   "metadata": {},
   "outputs": [],
   "source": [
    "X = data.loc[:,['anaemia', 'diabetes', 'high_blood_pressure', 'sex', 'smoking',\n",
    "        'age_Group_Encoded',\n",
    "       'creatinine_phosphokinase_Group_Encoded',\n",
    "       'ejection_fraction_Group_Encoded', 'platelets_Group_Encoded',\n",
    "       'serum_creatinine_Group_Encoded', 'serum_sodium_Group_Encoded',\n",
    "       'time_Group_Encoded']]\n",
    "Y = data.loc[:,'DEATH_EVENT']\n"
   ]
  },
  {
   "cell_type": "code",
   "execution_count": null,
   "id": "2dd6bdf4-eed4-48c9-a6c6-07cf1f385ec8",
   "metadata": {},
   "outputs": [],
   "source": []
  },
  {
   "cell_type": "code",
   "execution_count": null,
   "id": "70f21f15-c509-403f-bf8b-57dc0f600a17",
   "metadata": {},
   "outputs": [],
   "source": []
  },
  {
   "cell_type": "markdown",
   "id": "a309df79-ee8d-457e-84dd-e634b38c2c8a",
   "metadata": {},
   "source": [
    "# SCALING"
   ]
  },
  {
   "cell_type": "code",
   "execution_count": 111,
   "id": "8f81d913-12db-4727-9505-a873f0cc6b0b",
   "metadata": {},
   "outputs": [
    {
     "data": {
      "text/plain": [
       "array([[-0.87110478, -0.84757938,  1.35927151, ..., -0.95435529,\n",
       "        -2.04151923,  0.18639336],\n",
       "       [-0.87110478, -0.84757938, -0.73568819, ..., -0.95435529,\n",
       "        -0.29747852,  0.18639336],\n",
       "       [-0.87110478, -0.84757938, -0.73568819, ..., -0.95435529,\n",
       "        -2.04151923,  0.18639336],\n",
       "       ...,\n",
       "       [-0.87110478,  1.1798305 , -0.73568819, ...,  0.44443016,\n",
       "        -0.29747852,  1.05719984],\n",
       "       [-0.87110478, -0.84757938, -0.73568819, ..., -0.95435529,\n",
       "        -0.29747852,  1.05719984],\n",
       "       [-0.87110478, -0.84757938, -0.73568819, ..., -0.95435529,\n",
       "        -0.29747852,  1.05719984]])"
      ]
     },
     "execution_count": 111,
     "metadata": {},
     "output_type": "execute_result"
    }
   ],
   "source": [
    "from sklearn.preprocessing import StandardScaler\n",
    "\n",
    "scaler = StandardScaler()    \n",
    "\n",
    "scaler.fit(X)                \n",
    "scaler.transform(X)"
   ]
  },
  {
   "cell_type": "code",
   "execution_count": null,
   "id": "fbe2e37d-1890-4cf4-89c6-0674606ed08e",
   "metadata": {},
   "outputs": [],
   "source": []
  },
  {
   "cell_type": "code",
   "execution_count": null,
   "id": "2cf015ad-3f4a-43e7-a9bd-2bacbe192ae1",
   "metadata": {},
   "outputs": [],
   "source": []
  },
  {
   "cell_type": "markdown",
   "id": "d54e2385-8b81-4263-b08d-1d8186a483e7",
   "metadata": {},
   "source": [
    "# SPLITTING DATA INTO TRAIN AND TEST"
   ]
  },
  {
   "cell_type": "code",
   "execution_count": 112,
   "id": "6c202ccb-9a75-49f3-b411-15e421f7056e",
   "metadata": {},
   "outputs": [],
   "source": [
    "# splitting the data into test and train\n",
    "from sklearn.model_selection import train_test_split\n",
    "\n",
    "# split the data into test and train\n",
    "X_train,X_test,Y_train,Y_test = train_test_split(X,Y,test_size=0.3,random_state = 10)  "
   ]
  },
  {
   "cell_type": "code",
   "execution_count": null,
   "id": "4a7de37a-3b93-4ced-9371-e64925d17fcc",
   "metadata": {},
   "outputs": [],
   "source": []
  },
  {
   "cell_type": "code",
   "execution_count": null,
   "id": "a459c6f1-cfbb-42b6-9e52-541517a4d85c",
   "metadata": {},
   "outputs": [],
   "source": []
  },
  {
   "cell_type": "markdown",
   "id": "78dba38f-4d66-465e-b949-4f286a5fadf2",
   "metadata": {},
   "source": [
    "# DISTRIBUTION OF TARGET VARIABLE"
   ]
  },
  {
   "cell_type": "code",
   "execution_count": 117,
   "id": "e7f9eda6-12e8-4c05-b419-4341e43393f5",
   "metadata": {},
   "outputs": [
    {
     "data": {
      "text/plain": [
       "DEATH_EVENT\n",
       "0    203\n",
       "1     96\n",
       "Name: count, dtype: int64"
      ]
     },
     "execution_count": 117,
     "metadata": {},
     "output_type": "execute_result"
    }
   ],
   "source": [
    "data['DEATH_EVENT'].value_counts()"
   ]
  },
  {
   "cell_type": "markdown",
   "id": "685e1615-569c-4620-a42e-ad20dc285344",
   "metadata": {},
   "source": [
    "My dataset is imbalance   \n",
    "So i need to make it balance."
   ]
  },
  {
   "cell_type": "code",
   "execution_count": null,
   "id": "5c97ed56-4092-4eca-9681-7ea042ae1beb",
   "metadata": {},
   "outputs": [],
   "source": []
  },
  {
   "cell_type": "code",
   "execution_count": null,
   "id": "949ae136-7cf4-4b82-af91-a11ced7dcf95",
   "metadata": {},
   "outputs": [],
   "source": []
  },
  {
   "cell_type": "markdown",
   "id": "ae549532-b448-4ba8-a691-b1d88c02ad0b",
   "metadata": {},
   "source": [
    "# SMOTE"
   ]
  },
  {
   "cell_type": "markdown",
   "id": "2632947f-13fd-4ab7-9f39-059a3e48c620",
   "metadata": {},
   "source": [
    "for balancing the targete variable i am using smote technique.  \n",
    "Such that both the categories have equal no of data points.  \n",
    "Such that my model will learnt upon both the category properly."
   ]
  },
  {
   "cell_type": "code",
   "execution_count": 113,
   "id": "eaacb15f-4e98-4590-99a0-4398a865792b",
   "metadata": {},
   "outputs": [
    {
     "name": "stdout",
     "output_type": "stream",
     "text": [
      "Before OverSampling, counts of label '1':  67\n",
      "Before OverSampling, counts of label '0':  142\n",
      "After OverSampling, the shape of train_X:  (284, 12)\n",
      "After OverSampling, the shape of train_y:  (284,)\n",
      "After OverSampling, counts of label '1':  142\n",
      "After OverSampling, counts of label '0':  142\n"
     ]
    }
   ],
   "source": [
    "print(\"Before OverSampling, counts of label '1': \", (sum(Y_train == 1)))\n",
    "print(\"Before OverSampling, counts of label '0': \", (sum(Y_train == 0)))\n",
    "  \n",
    "# import SMOTE from imblearn library\n",
    "from imblearn.over_sampling import SMOTE\n",
    "sm = SMOTE(random_state = 10,k_neighbors=5)\n",
    "X_train_res, Y_train_res = sm.fit_resample(X_train, Y_train)\n",
    "  \n",
    "print('After OverSampling, the shape of train_X: ', (X_train_res.shape))\n",
    "print('After OverSampling, the shape of train_y: ', (Y_train_res.shape))\n",
    "  \n",
    "print(\"After OverSampling, counts of label '1': \", (sum(Y_train_res == 1)))\n",
    "print(\"After OverSampling, counts of label '0': \", (sum(Y_train_res == 0)))"
   ]
  },
  {
   "cell_type": "code",
   "execution_count": null,
   "id": "34f6e9b8-87a6-4c1a-bfe9-061da371f1b7",
   "metadata": {},
   "outputs": [],
   "source": []
  },
  {
   "cell_type": "code",
   "execution_count": null,
   "id": "b7503815-18cc-4769-b2b7-75ea279da126",
   "metadata": {},
   "outputs": [],
   "source": []
  },
  {
   "cell_type": "markdown",
   "id": "41092465-06f2-4bd3-a40b-dd241ebc0831",
   "metadata": {},
   "source": [
    "**CLASS DISTRIBUTION**"
   ]
  },
  {
   "cell_type": "markdown",
   "id": "84f41616-d69b-4a88-a82e-545235a950d8",
   "metadata": {},
   "source": [
    "After grouping all the variables i got the final categories in my all variables"
   ]
  },
  {
   "cell_type": "code",
   "execution_count": 114,
   "id": "0a0e80e7-5f8c-4854-a47c-9477577a7d4c",
   "metadata": {},
   "outputs": [
    {
     "name": "stdout",
     "output_type": "stream",
     "text": [
      "{'anaemia': array([0, 1], dtype=int64)}\n",
      "{'diabetes': array([0, 1], dtype=int64)}\n",
      "{'high_blood_pressure': array([1, 0], dtype=int64)}\n",
      "{'sex': array([1, 0], dtype=int64)}\n",
      "{'smoking': array([0, 1], dtype=int64)}\n",
      "{'DEATH_EVENT': array([1, 0], dtype=int64)}\n",
      "{'age_Group_Encoded': array([2, 1, 3, 0])}\n",
      "{'creatinine_phosphokinase_Group_Encoded': array([2, 3, 1, 0])}\n",
      "{'ejection_fraction_Group_Encoded': array([2, 0, 1, 3])}\n",
      "{'platelets_Group_Encoded': array([3, 2, 1, 0, 4])}\n",
      "{'serum_creatinine_Group_Encoded': array([0, 2, 3, 1])}\n",
      "{'serum_sodium_Group_Encoded': array([1, 2, 3, 0])}\n",
      "{'time_Group_Encoded': array([2, 1, 0, 3])}\n"
     ]
    }
   ],
   "source": [
    "for i in data.columns:\n",
    "    print({i:data[i].unique()})"
   ]
  },
  {
   "cell_type": "code",
   "execution_count": null,
   "id": "1d22e1cf-8183-44b9-a380-0c30ccabbeec",
   "metadata": {},
   "outputs": [],
   "source": []
  },
  {
   "cell_type": "code",
   "execution_count": null,
   "id": "74b3d8b9-2d5b-4db0-994c-22bec6fea242",
   "metadata": {},
   "outputs": [],
   "source": []
  },
  {
   "cell_type": "markdown",
   "id": "087b5c59-c36e-4194-80a3-2d2164ae841a",
   "metadata": {},
   "source": [
    "# MODEL BUILDING"
   ]
  },
  {
   "cell_type": "code",
   "execution_count": 115,
   "id": "cc1eda76-fb03-4113-8aac-7e2ab88aa036",
   "metadata": {},
   "outputs": [
    {
     "name": "stdout",
     "output_type": "stream",
     "text": [
      "[1.1273135]\n",
      "[[ 0.1401462  -0.48088347 -0.27686247 -0.34083706 -0.29595966  0.32526557\n",
      "   0.21010848  0.37227965 -0.13995173  0.08234657 -0.63777853 -0.19675347]]\n",
      "[0 1 1 0 0 1 0 0 0 0 0 0 0 0 0 1 1 0 1 0 1 0 0 0 1 0 1 1 0 0 0 0 0 0 0 0 0\n",
      " 1 1 0 0 0 1 0 1 0 1 1 1 0 0 0 0 0 0 1 0 0 0 0 0 0 1 0 1 1 0 0 0 0 1 1 0 0\n",
      " 0 0 0 1 1 0 0 1 0 0 0 1 0 0 0 1]\n",
      "[[45 16]\n",
      " [17 12]]\n",
      "Classification report: \n",
      "              precision    recall  f1-score   support\n",
      "\n",
      "           0       0.73      0.74      0.73        61\n",
      "           1       0.43      0.41      0.42        29\n",
      "\n",
      "    accuracy                           0.63        90\n",
      "   macro avg       0.58      0.58      0.58        90\n",
      "weighted avg       0.63      0.63      0.63        90\n",
      "\n",
      "Accuracy of the model:  0.6333333333333333\n"
     ]
    }
   ],
   "source": [
    "from sklearn.linear_model import LogisticRegression\n",
    "# create a model\n",
    "classifier=LogisticRegression(random_state=10)\n",
    "\n",
    "# fitting training data to the model...........(input is X and Y)\n",
    "classifier.fit(X_train_res,Y_train_res)\n",
    "\n",
    "# output is equation of liner regression \n",
    "print(classifier.intercept_)   # intercept is beta-not\n",
    "print(classifier.coef_)     # coef is beta-1,beta-2\n",
    "\n",
    "# input me sirf x hi dalta h\n",
    "Y_pred=classifier.predict(X_test)\n",
    "print(Y_pred)\n",
    "\n",
    "\n",
    "from sklearn.metrics import confusion_matrix, accuracy_score, classification_report\n",
    " \n",
    "# confusion matrix\n",
    "cfm=confusion_matrix(Y_test,Y_pred)\n",
    "print(cfm)\n",
    " \n",
    "print(\"Classification report: \")\n",
    " \n",
    "print(classification_report(Y_test,Y_pred))\n",
    "\n",
    "\n",
    "# accuracy_score\n",
    "acc=accuracy_score(Y_test, Y_pred)\n",
    "print(\"Accuracy of the model: \",acc)"
   ]
  },
  {
   "cell_type": "code",
   "execution_count": null,
   "id": "979f014b-ea64-4673-8372-3abed5717c8f",
   "metadata": {},
   "outputs": [],
   "source": []
  },
  {
   "cell_type": "code",
   "execution_count": 118,
   "id": "7f745a01-56bc-4094-a433-31754fd88f42",
   "metadata": {},
   "outputs": [],
   "source": [
    "from sklearn.tree import DecisionTreeClassifier\n",
    "from sklearn.svm import SVC\n",
    "from sklearn.neighbors import KNeighborsClassifier\n",
    "from sklearn.linear_model import LogisticRegression\n",
    "\n",
    "# first, initialize the classificators\n",
    "tree= DecisionTreeClassifier(random_state=10) # using the random state for reproducibility\n",
    "knn= KNeighborsClassifier(n_neighbors=5,metric='euclidean')\n",
    "svm= SVC(kernel=\"rbf\", gamma=0.1, C=90,random_state=10)\n",
    "logreg=LogisticRegression(multi_class=\"multinomial\",random_state=10)"
   ]
  },
  {
   "cell_type": "code",
   "execution_count": 119,
   "id": "fe2ebd89-bc00-4dcb-9ab6-663bcd6bcbf5",
   "metadata": {},
   "outputs": [],
   "source": [
    "# now, create a list with the objects \n",
    "models= [tree, knn, svm, logreg]"
   ]
  },
  {
   "cell_type": "code",
   "execution_count": 121,
   "id": "8e6d99aa-2676-4642-8a65-8c84886f0547",
   "metadata": {},
   "outputs": [
    {
     "name": "stdout",
     "output_type": "stream",
     "text": [
      "[[51 10]\n",
      " [10 19]]\n",
      "The accuracy of the  DecisionTreeClassifier  model is  77.77777777777779\n",
      "Classification report:\n",
      "               precision    recall  f1-score   support\n",
      "\n",
      "           0       0.84      0.84      0.84        61\n",
      "           1       0.66      0.66      0.66        29\n",
      "\n",
      "    accuracy                           0.78        90\n",
      "   macro avg       0.75      0.75      0.75        90\n",
      "weighted avg       0.78      0.78      0.78        90\n",
      "\n",
      "\n",
      "\n",
      "[[45 16]\n",
      " [14 15]]\n",
      "The accuracy of the  KNeighborsClassifier  model is  66.66666666666666\n",
      "Classification report:\n",
      "               precision    recall  f1-score   support\n",
      "\n",
      "           0       0.76      0.74      0.75        61\n",
      "           1       0.48      0.52      0.50        29\n",
      "\n",
      "    accuracy                           0.67        90\n",
      "   macro avg       0.62      0.63      0.62        90\n",
      "weighted avg       0.67      0.67      0.67        90\n",
      "\n",
      "\n",
      "\n",
      "[[47 14]\n",
      " [15 14]]\n",
      "The accuracy of the  SVC  model is  67.77777777777779\n",
      "Classification report:\n",
      "               precision    recall  f1-score   support\n",
      "\n",
      "           0       0.76      0.77      0.76        61\n",
      "           1       0.50      0.48      0.49        29\n",
      "\n",
      "    accuracy                           0.68        90\n",
      "   macro avg       0.63      0.63      0.63        90\n",
      "weighted avg       0.67      0.68      0.68        90\n",
      "\n",
      "\n",
      "\n",
      "[[45 16]\n",
      " [16 13]]\n",
      "The accuracy of the  LogisticRegression  model is  64.44444444444444\n",
      "Classification report:\n",
      "               precision    recall  f1-score   support\n",
      "\n",
      "           0       0.74      0.74      0.74        61\n",
      "           1       0.45      0.45      0.45        29\n",
      "\n",
      "    accuracy                           0.64        90\n",
      "   macro avg       0.59      0.59      0.59        90\n",
      "weighted avg       0.64      0.64      0.64        90\n",
      "\n",
      "\n",
      "\n"
     ]
    }
   ],
   "source": [
    "from sklearn.metrics import confusion_matrix, accuracy_score,classification_report\n",
    "\n",
    "for model in models:\n",
    "    model.fit(X_train_res, Y_train_res) # fit the model\n",
    "    Y_pred= model.predict(X_test) # then predict on the test set\n",
    "    accuracy= accuracy_score(Y_test, Y_pred) \n",
    "    clf_report= classification_report(Y_test, Y_pred) \n",
    "    print(confusion_matrix(Y_test,Y_pred))\n",
    "    print(\"The accuracy of the \",type(model).__name__, \" model is \", accuracy*100 )\n",
    "    print(\"Classification report:\\n\", clf_report)\n",
    "    print(\"\\n\")"
   ]
  },
  {
   "cell_type": "markdown",
   "id": "501787eb-d14f-484d-9b1d-cb78f433588c",
   "metadata": {},
   "source": [
    "# CONCLUSION"
   ]
  },
  {
   "cell_type": "markdown",
   "id": "041b7768-3a95-42d2-ae21-c17d1de3bc6d",
   "metadata": {},
   "source": [
    "Here i can conclude that by grouping the data point by models accuracy is not increasing.  \n",
    "And by grouping the data i ma manupulating the data very badly because we know that  \n",
    "some small noint increase in parametes can laeds to death of an individual."
   ]
  },
  {
   "cell_type": "code",
   "execution_count": null,
   "id": "ad8cb0e4-bca9-4b1d-988f-218479819cc3",
   "metadata": {},
   "outputs": [],
   "source": []
  },
  {
   "cell_type": "markdown",
   "id": "423d72d8-55ff-403a-9173-bb39338b4195",
   "metadata": {},
   "source": [
    "The model that i have made above in the code file without manupulating the data set   \n",
    "is the best model for heart disease pridiction which is \"BOOSTED DECISION TREE\"."
   ]
  },
  {
   "cell_type": "code",
   "execution_count": null,
   "id": "2988af17-4df5-4c80-8fea-a8d8ececff55",
   "metadata": {},
   "outputs": [],
   "source": []
  },
  {
   "cell_type": "code",
   "execution_count": null,
   "id": "e9d9378f-785d-4ee5-976e-f868a3d17380",
   "metadata": {},
   "outputs": [],
   "source": []
  },
  {
   "cell_type": "code",
   "execution_count": null,
   "id": "86d45c56-8132-4709-95d4-da737f84d68c",
   "metadata": {},
   "outputs": [],
   "source": []
  },
  {
   "cell_type": "code",
   "execution_count": null,
   "id": "1eced1e3-855a-438a-996e-f7589a854c52",
   "metadata": {},
   "outputs": [],
   "source": []
  }
 ],
 "metadata": {
  "kernelspec": {
   "display_name": "Python 3 (ipykernel)",
   "language": "python",
   "name": "python3"
  },
  "language_info": {
   "codemirror_mode": {
    "name": "ipython",
    "version": 3
   },
   "file_extension": ".py",
   "mimetype": "text/x-python",
   "name": "python",
   "nbconvert_exporter": "python",
   "pygments_lexer": "ipython3",
   "version": "3.12.4"
  }
 },
 "nbformat": 4,
 "nbformat_minor": 5
}
